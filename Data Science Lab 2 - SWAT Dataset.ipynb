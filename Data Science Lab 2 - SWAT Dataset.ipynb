{
 "cells": [
  {
   "cell_type": "code",
   "execution_count": 17,
   "id": "551cf95a",
   "metadata": {},
   "outputs": [],
   "source": [
    "%matplotlib inline\n",
    "\n",
    "# Filter warnings\n",
    "import warnings\n",
    "warnings.filterwarnings(\"ignore\")\n",
    "\n",
    "# Data manipulation\n",
    "import pandas as pd\n",
    "import numpy as np\n",
    "\n",
    "# Data visualization\n",
    "import matplotlib.pyplot as plt\n",
    "import seaborn as sns\n",
    "from plotnine import *\n",
    "import plotnine\n",
    "\n",
    "from sklearn import preprocessing\n",
    "from sklearn.ensemble import IsolationForest\n",
    "from sklearn.model_selection import GridSearchCV\n",
    "from sklearn import model_selection\n",
    "from sklearn.feature_selection import VarianceThreshold\n",
    "import math\n",
    "from sklearn.decomposition import PCA\n",
    "from statsmodels.tsa.stattools import adfuller \n"
   ]
  },
  {
   "cell_type": "markdown",
   "id": "45a02462",
   "metadata": {},
   "source": [
    "# Data preprocessing"
   ]
  },
  {
   "cell_type": "code",
   "execution_count": 159,
   "id": "fe8e1ad3",
   "metadata": {},
   "outputs": [
    {
     "name": "stdout",
     "output_type": "stream",
     "text": [
      "Data size: (449919, 53)\n"
     ]
    }
   ],
   "source": [
    "df = pd.read_csv('SWaT_Dataset.csv')\n",
    "print(\"Data size:\", df.shape) # print data size"
   ]
  },
  {
   "cell_type": "code",
   "execution_count": 160,
   "id": "0c509ed8",
   "metadata": {},
   "outputs": [],
   "source": [
    "df['Timestamp'] = pd.to_datetime(df['Timestamp'])\n",
    "df.rename(columns = {'Timestamp':'Date'}, inplace = True)"
   ]
  },
  {
   "cell_type": "code",
   "execution_count": 161,
   "id": "d6bea7d3",
   "metadata": {},
   "outputs": [
    {
     "data": {
      "text/html": [
       "<div>\n",
       "<style scoped>\n",
       "    .dataframe tbody tr th:only-of-type {\n",
       "        vertical-align: middle;\n",
       "    }\n",
       "\n",
       "    .dataframe tbody tr th {\n",
       "        vertical-align: top;\n",
       "    }\n",
       "\n",
       "    .dataframe thead th {\n",
       "        text-align: right;\n",
       "    }\n",
       "</style>\n",
       "<table border=\"1\" class=\"dataframe\">\n",
       "  <thead>\n",
       "    <tr style=\"text-align: right;\">\n",
       "      <th></th>\n",
       "      <th>Date</th>\n",
       "      <th>FIT101</th>\n",
       "      <th>LIT101</th>\n",
       "      <th>MV101</th>\n",
       "      <th>P101</th>\n",
       "      <th>P102</th>\n",
       "      <th>AIT201</th>\n",
       "      <th>AIT202</th>\n",
       "      <th>AIT203</th>\n",
       "      <th>FIT201</th>\n",
       "      <th>...</th>\n",
       "      <th>P501</th>\n",
       "      <th>P502</th>\n",
       "      <th>PIT501</th>\n",
       "      <th>PIT502</th>\n",
       "      <th>PIT503</th>\n",
       "      <th>FIT601</th>\n",
       "      <th>P601</th>\n",
       "      <th>P602</th>\n",
       "      <th>P603</th>\n",
       "      <th>Normal/Attack</th>\n",
       "    </tr>\n",
       "  </thead>\n",
       "  <tbody>\n",
       "    <tr>\n",
       "      <th>0</th>\n",
       "      <td>2015-12-28 10:00:00</td>\n",
       "      <td>2.427057</td>\n",
       "      <td>522.8467</td>\n",
       "      <td>2</td>\n",
       "      <td>2</td>\n",
       "      <td>1</td>\n",
       "      <td>262.0161</td>\n",
       "      <td>8.396437</td>\n",
       "      <td>328.6337</td>\n",
       "      <td>2.445391</td>\n",
       "      <td>...</td>\n",
       "      <td>2</td>\n",
       "      <td>1</td>\n",
       "      <td>250.8652</td>\n",
       "      <td>1.649953</td>\n",
       "      <td>189.5988</td>\n",
       "      <td>0.000128</td>\n",
       "      <td>1</td>\n",
       "      <td>1</td>\n",
       "      <td>1</td>\n",
       "      <td>Normal</td>\n",
       "    </tr>\n",
       "    <tr>\n",
       "      <th>1</th>\n",
       "      <td>2015-12-28 10:00:01</td>\n",
       "      <td>2.446274</td>\n",
       "      <td>522.8860</td>\n",
       "      <td>2</td>\n",
       "      <td>2</td>\n",
       "      <td>1</td>\n",
       "      <td>262.0161</td>\n",
       "      <td>8.396437</td>\n",
       "      <td>328.6337</td>\n",
       "      <td>2.445391</td>\n",
       "      <td>...</td>\n",
       "      <td>2</td>\n",
       "      <td>1</td>\n",
       "      <td>250.8652</td>\n",
       "      <td>1.649953</td>\n",
       "      <td>189.6789</td>\n",
       "      <td>0.000128</td>\n",
       "      <td>1</td>\n",
       "      <td>1</td>\n",
       "      <td>1</td>\n",
       "      <td>Normal</td>\n",
       "    </tr>\n",
       "    <tr>\n",
       "      <th>2</th>\n",
       "      <td>2015-12-28 10:00:02</td>\n",
       "      <td>2.489191</td>\n",
       "      <td>522.8467</td>\n",
       "      <td>2</td>\n",
       "      <td>2</td>\n",
       "      <td>1</td>\n",
       "      <td>262.0161</td>\n",
       "      <td>8.394514</td>\n",
       "      <td>328.6337</td>\n",
       "      <td>2.442316</td>\n",
       "      <td>...</td>\n",
       "      <td>2</td>\n",
       "      <td>1</td>\n",
       "      <td>250.8812</td>\n",
       "      <td>1.649953</td>\n",
       "      <td>189.6789</td>\n",
       "      <td>0.000128</td>\n",
       "      <td>1</td>\n",
       "      <td>1</td>\n",
       "      <td>1</td>\n",
       "      <td>Normal</td>\n",
       "    </tr>\n",
       "    <tr>\n",
       "      <th>3</th>\n",
       "      <td>2015-12-28 10:00:03</td>\n",
       "      <td>2.534350</td>\n",
       "      <td>522.9645</td>\n",
       "      <td>2</td>\n",
       "      <td>2</td>\n",
       "      <td>1</td>\n",
       "      <td>262.0161</td>\n",
       "      <td>8.394514</td>\n",
       "      <td>328.6337</td>\n",
       "      <td>2.442316</td>\n",
       "      <td>...</td>\n",
       "      <td>2</td>\n",
       "      <td>1</td>\n",
       "      <td>250.8812</td>\n",
       "      <td>1.649953</td>\n",
       "      <td>189.6148</td>\n",
       "      <td>0.000128</td>\n",
       "      <td>1</td>\n",
       "      <td>1</td>\n",
       "      <td>1</td>\n",
       "      <td>Normal</td>\n",
       "    </tr>\n",
       "    <tr>\n",
       "      <th>4</th>\n",
       "      <td>2015-12-28 10:00:04</td>\n",
       "      <td>2.569260</td>\n",
       "      <td>523.4748</td>\n",
       "      <td>2</td>\n",
       "      <td>2</td>\n",
       "      <td>1</td>\n",
       "      <td>262.0161</td>\n",
       "      <td>8.394514</td>\n",
       "      <td>328.6337</td>\n",
       "      <td>2.443085</td>\n",
       "      <td>...</td>\n",
       "      <td>2</td>\n",
       "      <td>1</td>\n",
       "      <td>250.8812</td>\n",
       "      <td>1.649953</td>\n",
       "      <td>189.5027</td>\n",
       "      <td>0.000128</td>\n",
       "      <td>1</td>\n",
       "      <td>1</td>\n",
       "      <td>1</td>\n",
       "      <td>Normal</td>\n",
       "    </tr>\n",
       "    <tr>\n",
       "      <th>...</th>\n",
       "      <td>...</td>\n",
       "      <td>...</td>\n",
       "      <td>...</td>\n",
       "      <td>...</td>\n",
       "      <td>...</td>\n",
       "      <td>...</td>\n",
       "      <td>...</td>\n",
       "      <td>...</td>\n",
       "      <td>...</td>\n",
       "      <td>...</td>\n",
       "      <td>...</td>\n",
       "      <td>...</td>\n",
       "      <td>...</td>\n",
       "      <td>...</td>\n",
       "      <td>...</td>\n",
       "      <td>...</td>\n",
       "      <td>...</td>\n",
       "      <td>...</td>\n",
       "      <td>...</td>\n",
       "      <td>...</td>\n",
       "      <td>...</td>\n",
       "    </tr>\n",
       "    <tr>\n",
       "      <th>449909</th>\n",
       "      <td>2016-02-01 14:59:50</td>\n",
       "      <td>2.633956</td>\n",
       "      <td>516.8018</td>\n",
       "      <td>2</td>\n",
       "      <td>2</td>\n",
       "      <td>1</td>\n",
       "      <td>168.0979</td>\n",
       "      <td>8.642528</td>\n",
       "      <td>301.8457</td>\n",
       "      <td>2.462051</td>\n",
       "      <td>...</td>\n",
       "      <td>2</td>\n",
       "      <td>1</td>\n",
       "      <td>251.3779</td>\n",
       "      <td>0.945119</td>\n",
       "      <td>189.1182</td>\n",
       "      <td>0.000000</td>\n",
       "      <td>1</td>\n",
       "      <td>1</td>\n",
       "      <td>1</td>\n",
       "      <td>Normal</td>\n",
       "    </tr>\n",
       "    <tr>\n",
       "      <th>449910</th>\n",
       "      <td>2016-02-01 14:59:51</td>\n",
       "      <td>2.626909</td>\n",
       "      <td>516.9588</td>\n",
       "      <td>2</td>\n",
       "      <td>2</td>\n",
       "      <td>1</td>\n",
       "      <td>168.0979</td>\n",
       "      <td>8.642528</td>\n",
       "      <td>301.8457</td>\n",
       "      <td>2.460898</td>\n",
       "      <td>...</td>\n",
       "      <td>2</td>\n",
       "      <td>1</td>\n",
       "      <td>251.3779</td>\n",
       "      <td>0.945119</td>\n",
       "      <td>189.1182</td>\n",
       "      <td>0.000000</td>\n",
       "      <td>1</td>\n",
       "      <td>1</td>\n",
       "      <td>1</td>\n",
       "      <td>Normal</td>\n",
       "    </tr>\n",
       "    <tr>\n",
       "      <th>449911</th>\n",
       "      <td>2016-02-01 14:59:52</td>\n",
       "      <td>2.616340</td>\n",
       "      <td>517.4691</td>\n",
       "      <td>2</td>\n",
       "      <td>2</td>\n",
       "      <td>1</td>\n",
       "      <td>168.0979</td>\n",
       "      <td>8.642528</td>\n",
       "      <td>301.9226</td>\n",
       "      <td>2.460770</td>\n",
       "      <td>...</td>\n",
       "      <td>2</td>\n",
       "      <td>1</td>\n",
       "      <td>251.3779</td>\n",
       "      <td>0.945119</td>\n",
       "      <td>189.1182</td>\n",
       "      <td>0.000000</td>\n",
       "      <td>1</td>\n",
       "      <td>1</td>\n",
       "      <td>1</td>\n",
       "      <td>Normal</td>\n",
       "    </tr>\n",
       "    <tr>\n",
       "      <th>449912</th>\n",
       "      <td>2016-02-01 14:59:53</td>\n",
       "      <td>2.606091</td>\n",
       "      <td>518.1757</td>\n",
       "      <td>2</td>\n",
       "      <td>2</td>\n",
       "      <td>1</td>\n",
       "      <td>168.0979</td>\n",
       "      <td>8.639965</td>\n",
       "      <td>301.9226</td>\n",
       "      <td>2.459488</td>\n",
       "      <td>...</td>\n",
       "      <td>2</td>\n",
       "      <td>1</td>\n",
       "      <td>251.3779</td>\n",
       "      <td>0.945119</td>\n",
       "      <td>189.1182</td>\n",
       "      <td>0.000000</td>\n",
       "      <td>1</td>\n",
       "      <td>1</td>\n",
       "      <td>1</td>\n",
       "      <td>Normal</td>\n",
       "    </tr>\n",
       "    <tr>\n",
       "      <th>449913</th>\n",
       "      <td>2016-02-01 14:59:54</td>\n",
       "      <td>2.586555</td>\n",
       "      <td>518.9607</td>\n",
       "      <td>2</td>\n",
       "      <td>2</td>\n",
       "      <td>1</td>\n",
       "      <td>168.0979</td>\n",
       "      <td>8.638683</td>\n",
       "      <td>301.9226</td>\n",
       "      <td>2.459488</td>\n",
       "      <td>...</td>\n",
       "      <td>2</td>\n",
       "      <td>1</td>\n",
       "      <td>251.3779</td>\n",
       "      <td>0.865024</td>\n",
       "      <td>189.1182</td>\n",
       "      <td>0.000000</td>\n",
       "      <td>1</td>\n",
       "      <td>1</td>\n",
       "      <td>1</td>\n",
       "      <td>Normal</td>\n",
       "    </tr>\n",
       "  </tbody>\n",
       "</table>\n",
       "<p>449914 rows × 53 columns</p>\n",
       "</div>"
      ],
      "text/plain": [
       "                      Date    FIT101    LIT101   MV101  P101  P102    AIT201  \\\n",
       "0      2015-12-28 10:00:00  2.427057  522.8467       2     2     1  262.0161   \n",
       "1      2015-12-28 10:00:01  2.446274  522.8860       2     2     1  262.0161   \n",
       "2      2015-12-28 10:00:02  2.489191  522.8467       2     2     1  262.0161   \n",
       "3      2015-12-28 10:00:03  2.534350  522.9645       2     2     1  262.0161   \n",
       "4      2015-12-28 10:00:04  2.569260  523.4748       2     2     1  262.0161   \n",
       "...                    ...       ...       ...     ...   ...   ...       ...   \n",
       "449909 2016-02-01 14:59:50  2.633956  516.8018       2     2     1  168.0979   \n",
       "449910 2016-02-01 14:59:51  2.626909  516.9588       2     2     1  168.0979   \n",
       "449911 2016-02-01 14:59:52  2.616340  517.4691       2     2     1  168.0979   \n",
       "449912 2016-02-01 14:59:53  2.606091  518.1757       2     2     1  168.0979   \n",
       "449913 2016-02-01 14:59:54  2.586555  518.9607       2     2     1  168.0979   \n",
       "\n",
       "          AIT202    AIT203    FIT201  ...  P501  P502    PIT501    PIT502  \\\n",
       "0       8.396437  328.6337  2.445391  ...     2     1  250.8652  1.649953   \n",
       "1       8.396437  328.6337  2.445391  ...     2     1  250.8652  1.649953   \n",
       "2       8.394514  328.6337  2.442316  ...     2     1  250.8812  1.649953   \n",
       "3       8.394514  328.6337  2.442316  ...     2     1  250.8812  1.649953   \n",
       "4       8.394514  328.6337  2.443085  ...     2     1  250.8812  1.649953   \n",
       "...          ...       ...       ...  ...   ...   ...       ...       ...   \n",
       "449909  8.642528  301.8457  2.462051  ...     2     1  251.3779  0.945119   \n",
       "449910  8.642528  301.8457  2.460898  ...     2     1  251.3779  0.945119   \n",
       "449911  8.642528  301.9226  2.460770  ...     2     1  251.3779  0.945119   \n",
       "449912  8.639965  301.9226  2.459488  ...     2     1  251.3779  0.945119   \n",
       "449913  8.638683  301.9226  2.459488  ...     2     1  251.3779  0.865024   \n",
       "\n",
       "          PIT503    FIT601  P601  P602  P603  Normal/Attack  \n",
       "0       189.5988  0.000128     1     1     1         Normal  \n",
       "1       189.6789  0.000128     1     1     1         Normal  \n",
       "2       189.6789  0.000128     1     1     1         Normal  \n",
       "3       189.6148  0.000128     1     1     1         Normal  \n",
       "4       189.5027  0.000128     1     1     1         Normal  \n",
       "...          ...       ...   ...   ...   ...            ...  \n",
       "449909  189.1182  0.000000     1     1     1         Normal  \n",
       "449910  189.1182  0.000000     1     1     1         Normal  \n",
       "449911  189.1182  0.000000     1     1     1         Normal  \n",
       "449912  189.1182  0.000000     1     1     1         Normal  \n",
       "449913  189.1182  0.000000     1     1     1         Normal  \n",
       "\n",
       "[449914 rows x 53 columns]"
      ]
     },
     "execution_count": 161,
     "metadata": {},
     "output_type": "execute_result"
    }
   ],
   "source": [
    "df.head(-5)"
   ]
  },
  {
   "cell_type": "code",
   "execution_count": 162,
   "id": "7a975963",
   "metadata": {},
   "outputs": [
    {
     "data": {
      "text/plain": [
       "0"
      ]
     },
     "execution_count": 162,
     "metadata": {},
     "output_type": "execute_result"
    }
   ],
   "source": [
    "df.duplicated().sum() # check the duplicates"
   ]
  },
  {
   "cell_type": "code",
   "execution_count": 163,
   "id": "63caff18",
   "metadata": {},
   "outputs": [
    {
     "data": {
      "text/plain": [
       "Date             0.0\n",
       "FIT101           0.0\n",
       "LIT101           0.0\n",
       " MV101           0.0\n",
       "P101             0.0\n",
       "P102             0.0\n",
       " AIT201          0.0\n",
       "AIT202           0.0\n",
       "AIT203           0.0\n",
       "FIT201           0.0\n",
       " MV201           0.0\n",
       " P201            0.0\n",
       " P202            0.0\n",
       "P203             0.0\n",
       " P204            0.0\n",
       "P205             0.0\n",
       "P206             0.0\n",
       "DPIT301          0.0\n",
       "FIT301           0.0\n",
       "LIT301           0.0\n",
       "MV301            0.0\n",
       "MV302            0.0\n",
       " MV303           0.0\n",
       "MV304            0.0\n",
       "P301             0.0\n",
       "P302             0.0\n",
       "AIT401           0.0\n",
       "AIT402           0.0\n",
       "FIT401           0.0\n",
       "LIT401           0.0\n",
       "P401             0.0\n",
       "P402             0.0\n",
       "P403             0.0\n",
       "P404             0.0\n",
       "UV401            0.0\n",
       "AIT501           0.0\n",
       "AIT502           0.0\n",
       "AIT503           0.0\n",
       "AIT504           0.0\n",
       "FIT501           0.0\n",
       "FIT502           0.0\n",
       "FIT503           0.0\n",
       "FIT504           0.0\n",
       "P501             0.0\n",
       "P502             0.0\n",
       "PIT501           0.0\n",
       "PIT502           0.0\n",
       "PIT503           0.0\n",
       "FIT601           0.0\n",
       "P601             0.0\n",
       "P602             0.0\n",
       "P603             0.0\n",
       "Normal/Attack    0.0\n",
       "dtype: float64"
      ]
     },
     "execution_count": 163,
     "metadata": {},
     "output_type": "execute_result"
    }
   ],
   "source": [
    "df.isnull().sum()/len(df)*100"
   ]
  },
  {
   "cell_type": "markdown",
   "id": "a9666f26",
   "metadata": {},
   "source": [
    "Drop columns with only one distinct value"
   ]
  },
  {
   "cell_type": "code",
   "execution_count": 164,
   "id": "593a1ff5",
   "metadata": {},
   "outputs": [],
   "source": [
    "for col in df.columns:\n",
    "    if len(df[col].unique()) == 1:\n",
    "        df.drop(col,inplace=True,axis=1)"
   ]
  },
  {
   "cell_type": "code",
   "execution_count": 165,
   "id": "f60cf799",
   "metadata": {},
   "outputs": [
    {
     "data": {
      "text/plain": [
       "(449919, 46)"
      ]
     },
     "execution_count": 165,
     "metadata": {},
     "output_type": "execute_result"
    }
   ],
   "source": [
    "df.shape"
   ]
  },
  {
   "cell_type": "code",
   "execution_count": 166,
   "id": "bc083aca",
   "metadata": {},
   "outputs": [
    {
     "name": "stdout",
     "output_type": "stream",
     "text": [
      "<class 'pandas.core.frame.DataFrame'>\n",
      "RangeIndex: 449919 entries, 0 to 449918\n",
      "Data columns (total 46 columns):\n",
      " #   Column         Non-Null Count   Dtype         \n",
      "---  ------         --------------   -----         \n",
      " 0   Date           449919 non-null  datetime64[ns]\n",
      " 1   FIT101         449919 non-null  float64       \n",
      " 2   LIT101         449919 non-null  float64       \n",
      " 3    MV101         449919 non-null  int64         \n",
      " 4   P101           449919 non-null  int64         \n",
      " 5   P102           449919 non-null  int64         \n",
      " 6    AIT201        449919 non-null  float64       \n",
      " 7   AIT202         449919 non-null  float64       \n",
      " 8   AIT203         449919 non-null  float64       \n",
      " 9   FIT201         449919 non-null  float64       \n",
      " 10   MV201         449919 non-null  int64         \n",
      " 11   P201          449919 non-null  int64         \n",
      " 12  P203           449919 non-null  int64         \n",
      " 13   P204          449919 non-null  int64         \n",
      " 14  P205           449919 non-null  int64         \n",
      " 15  P206           449919 non-null  int64         \n",
      " 16  DPIT301        449919 non-null  float64       \n",
      " 17  FIT301         449919 non-null  float64       \n",
      " 18  LIT301         449919 non-null  float64       \n",
      " 19  MV301          449919 non-null  int64         \n",
      " 20  MV302          449919 non-null  int64         \n",
      " 21   MV303         449919 non-null  int64         \n",
      " 22  MV304          449919 non-null  int64         \n",
      " 23  P302           449919 non-null  int64         \n",
      " 24  AIT401         449919 non-null  float64       \n",
      " 25  AIT402         449919 non-null  float64       \n",
      " 26  FIT401         449919 non-null  float64       \n",
      " 27  LIT401         449919 non-null  float64       \n",
      " 28  P402           449919 non-null  int64         \n",
      " 29  P403           449919 non-null  int64         \n",
      " 30  UV401          449919 non-null  int64         \n",
      " 31  AIT501         449919 non-null  float64       \n",
      " 32  AIT502         449919 non-null  float64       \n",
      " 33  AIT503         449919 non-null  float64       \n",
      " 34  AIT504         449919 non-null  float64       \n",
      " 35  FIT501         449919 non-null  float64       \n",
      " 36  FIT502         449919 non-null  float64       \n",
      " 37  FIT503         449919 non-null  float64       \n",
      " 38  FIT504         449919 non-null  float64       \n",
      " 39  P501           449919 non-null  int64         \n",
      " 40  PIT501         449919 non-null  float64       \n",
      " 41  PIT502         449919 non-null  float64       \n",
      " 42  PIT503         449919 non-null  float64       \n",
      " 43  FIT601         449919 non-null  float64       \n",
      " 44  P602           449919 non-null  int64         \n",
      " 45  Normal/Attack  449919 non-null  object        \n",
      "dtypes: datetime64[ns](1), float64(25), int64(19), object(1)\n",
      "memory usage: 157.9+ MB\n"
     ]
    }
   ],
   "source": [
    "df.info()"
   ]
  },
  {
   "cell_type": "markdown",
   "id": "3319f989",
   "metadata": {},
   "source": [
    "# Data preperation VAR model"
   ]
  },
  {
   "cell_type": "code",
   "execution_count": 172,
   "id": "c222ea2d",
   "metadata": {},
   "outputs": [],
   "source": [
    "# create dff copy of df because we'll do some modification on datafram for VAR model\n",
    "dff = df\n",
    "dff=dff.iloc[50000:250000,:]\n",
    "target1= dff[\"Normal/Attack\"]\n",
    "\n",
    "#create df copy with only categorical data\n",
    "Df_cat  = dff.loc[:, df.nunique() < 4]\n",
    "Df_cat = Df_cat[Df_cat_columns]\n",
    "\n",
    "#Data normalization\n",
    "Df_pca=dff.drop(columns=[\"Date\", \"Normal/Attack\"])\n",
    "df_pca_copy = Df_pca.copy()\n",
    "min_max_scaler = preprocessing.MinMaxScaler()\n",
    "x_scaled = min_max_scaler.fit_transform(df_pca_copy)\n",
    "df_pca_copy = pd.DataFrame(x_scaled, index=df_pca_copy.index, columns=df_pca_copy.columns)\n"
   ]
  },
  {
   "cell_type": "code",
   "execution_count": 173,
   "id": "9a79e641",
   "metadata": {},
   "outputs": [
    {
     "data": {
      "text/html": [
       "<div>\n",
       "<style scoped>\n",
       "    .dataframe tbody tr th:only-of-type {\n",
       "        vertical-align: middle;\n",
       "    }\n",
       "\n",
       "    .dataframe tbody tr th {\n",
       "        vertical-align: top;\n",
       "    }\n",
       "\n",
       "    .dataframe thead th {\n",
       "        text-align: right;\n",
       "    }\n",
       "</style>\n",
       "<table border=\"1\" class=\"dataframe\">\n",
       "  <thead>\n",
       "    <tr style=\"text-align: right;\">\n",
       "      <th></th>\n",
       "      <th>FIT101</th>\n",
       "      <th>LIT101</th>\n",
       "      <th>MV101</th>\n",
       "      <th>P101</th>\n",
       "      <th>P102</th>\n",
       "      <th>AIT201</th>\n",
       "      <th>AIT202</th>\n",
       "      <th>AIT203</th>\n",
       "      <th>FIT201</th>\n",
       "      <th>MV201</th>\n",
       "      <th>...</th>\n",
       "      <th>FIT501</th>\n",
       "      <th>FIT502</th>\n",
       "      <th>FIT503</th>\n",
       "      <th>FIT504</th>\n",
       "      <th>P501</th>\n",
       "      <th>PIT501</th>\n",
       "      <th>PIT502</th>\n",
       "      <th>PIT503</th>\n",
       "      <th>FIT601</th>\n",
       "      <th>P602</th>\n",
       "    </tr>\n",
       "  </thead>\n",
       "  <tbody>\n",
       "    <tr>\n",
       "      <th>50000</th>\n",
       "      <td>0.0</td>\n",
       "      <td>0.991589</td>\n",
       "      <td>0.5</td>\n",
       "      <td>0.0</td>\n",
       "      <td>0.0</td>\n",
       "      <td>0.883609</td>\n",
       "      <td>0.290805</td>\n",
       "      <td>0.281414</td>\n",
       "      <td>0.0</td>\n",
       "      <td>0.5</td>\n",
       "      <td>...</td>\n",
       "      <td>0.988379</td>\n",
       "      <td>0.943722</td>\n",
       "      <td>0.985325</td>\n",
       "      <td>0.976161</td>\n",
       "      <td>1.0</td>\n",
       "      <td>0.973416</td>\n",
       "      <td>0.473684</td>\n",
       "      <td>0.971081</td>\n",
       "      <td>0.000037</td>\n",
       "      <td>0.0</td>\n",
       "    </tr>\n",
       "    <tr>\n",
       "      <th>50001</th>\n",
       "      <td>0.0</td>\n",
       "      <td>0.990255</td>\n",
       "      <td>0.5</td>\n",
       "      <td>0.0</td>\n",
       "      <td>0.0</td>\n",
       "      <td>0.883609</td>\n",
       "      <td>0.290805</td>\n",
       "      <td>0.281414</td>\n",
       "      <td>0.0</td>\n",
       "      <td>0.5</td>\n",
       "      <td>...</td>\n",
       "      <td>0.988379</td>\n",
       "      <td>0.947492</td>\n",
       "      <td>0.985325</td>\n",
       "      <td>0.976161</td>\n",
       "      <td>1.0</td>\n",
       "      <td>0.974072</td>\n",
       "      <td>0.473684</td>\n",
       "      <td>0.971081</td>\n",
       "      <td>0.000037</td>\n",
       "      <td>0.0</td>\n",
       "    </tr>\n",
       "    <tr>\n",
       "      <th>50002</th>\n",
       "      <td>0.0</td>\n",
       "      <td>0.990768</td>\n",
       "      <td>0.5</td>\n",
       "      <td>0.0</td>\n",
       "      <td>0.0</td>\n",
       "      <td>0.883609</td>\n",
       "      <td>0.290805</td>\n",
       "      <td>0.281414</td>\n",
       "      <td>0.0</td>\n",
       "      <td>0.5</td>\n",
       "      <td>...</td>\n",
       "      <td>0.988379</td>\n",
       "      <td>0.950980</td>\n",
       "      <td>0.985325</td>\n",
       "      <td>0.976161</td>\n",
       "      <td>1.0</td>\n",
       "      <td>0.974072</td>\n",
       "      <td>0.473684</td>\n",
       "      <td>0.971081</td>\n",
       "      <td>0.000037</td>\n",
       "      <td>0.0</td>\n",
       "    </tr>\n",
       "    <tr>\n",
       "      <th>50003</th>\n",
       "      <td>0.0</td>\n",
       "      <td>0.990768</td>\n",
       "      <td>0.5</td>\n",
       "      <td>0.0</td>\n",
       "      <td>0.0</td>\n",
       "      <td>0.883609</td>\n",
       "      <td>0.290805</td>\n",
       "      <td>0.281414</td>\n",
       "      <td>0.0</td>\n",
       "      <td>0.5</td>\n",
       "      <td>...</td>\n",
       "      <td>0.989329</td>\n",
       "      <td>0.950980</td>\n",
       "      <td>0.985325</td>\n",
       "      <td>0.976161</td>\n",
       "      <td>1.0</td>\n",
       "      <td>0.974072</td>\n",
       "      <td>0.473684</td>\n",
       "      <td>0.971081</td>\n",
       "      <td>0.000037</td>\n",
       "      <td>0.0</td>\n",
       "    </tr>\n",
       "    <tr>\n",
       "      <th>50004</th>\n",
       "      <td>0.0</td>\n",
       "      <td>0.991076</td>\n",
       "      <td>0.5</td>\n",
       "      <td>0.0</td>\n",
       "      <td>0.0</td>\n",
       "      <td>0.883609</td>\n",
       "      <td>0.296552</td>\n",
       "      <td>0.281414</td>\n",
       "      <td>0.0</td>\n",
       "      <td>0.5</td>\n",
       "      <td>...</td>\n",
       "      <td>0.989768</td>\n",
       "      <td>0.962764</td>\n",
       "      <td>0.986706</td>\n",
       "      <td>0.981504</td>\n",
       "      <td>1.0</td>\n",
       "      <td>0.974072</td>\n",
       "      <td>0.552632</td>\n",
       "      <td>0.971081</td>\n",
       "      <td>0.000037</td>\n",
       "      <td>0.0</td>\n",
       "    </tr>\n",
       "  </tbody>\n",
       "</table>\n",
       "<p>5 rows × 44 columns</p>\n",
       "</div>"
      ],
      "text/plain": [
       "       FIT101    LIT101   MV101  P101  P102    AIT201    AIT202    AIT203  \\\n",
       "50000     0.0  0.991589     0.5   0.0   0.0  0.883609  0.290805  0.281414   \n",
       "50001     0.0  0.990255     0.5   0.0   0.0  0.883609  0.290805  0.281414   \n",
       "50002     0.0  0.990768     0.5   0.0   0.0  0.883609  0.290805  0.281414   \n",
       "50003     0.0  0.990768     0.5   0.0   0.0  0.883609  0.290805  0.281414   \n",
       "50004     0.0  0.991076     0.5   0.0   0.0  0.883609  0.296552  0.281414   \n",
       "\n",
       "       FIT201   MV201  ...    FIT501    FIT502    FIT503    FIT504  P501  \\\n",
       "50000     0.0     0.5  ...  0.988379  0.943722  0.985325  0.976161   1.0   \n",
       "50001     0.0     0.5  ...  0.988379  0.947492  0.985325  0.976161   1.0   \n",
       "50002     0.0     0.5  ...  0.988379  0.950980  0.985325  0.976161   1.0   \n",
       "50003     0.0     0.5  ...  0.989329  0.950980  0.985325  0.976161   1.0   \n",
       "50004     0.0     0.5  ...  0.989768  0.962764  0.986706  0.981504   1.0   \n",
       "\n",
       "         PIT501    PIT502    PIT503    FIT601  P602  \n",
       "50000  0.973416  0.473684  0.971081  0.000037   0.0  \n",
       "50001  0.974072  0.473684  0.971081  0.000037   0.0  \n",
       "50002  0.974072  0.473684  0.971081  0.000037   0.0  \n",
       "50003  0.974072  0.473684  0.971081  0.000037   0.0  \n",
       "50004  0.974072  0.552632  0.971081  0.000037   0.0  \n",
       "\n",
       "[5 rows x 44 columns]"
      ]
     },
     "execution_count": 173,
     "metadata": {},
     "output_type": "execute_result"
    }
   ],
   "source": [
    "df_pca_copy.head()"
   ]
  },
  {
   "cell_type": "markdown",
   "id": "8e450bc4",
   "metadata": {},
   "source": [
    "Principal component Analysis"
   ]
  },
  {
   "cell_type": "code",
   "execution_count": 177,
   "id": "9bf4cf41",
   "metadata": {},
   "outputs": [],
   "source": [
    "# Create a PCA object with n_components=10\n",
    "pca = PCA(n_components=10)\n",
    "\n",
    "# Fit the PCA model to the data and transform the data\n",
    "# using the fitted model\n",
    "reduced_data = pca.fit_transform(df_pca_copy)"
   ]
  },
  {
   "cell_type": "code",
   "execution_count": 178,
   "id": "5854da5c",
   "metadata": {},
   "outputs": [
    {
     "data": {
      "text/plain": [
       "array(['2015-12-28T23:53:20.000000000', '2015-12-28T23:53:21.000000000',\n",
       "       '2015-12-28T23:53:22.000000000', ...,\n",
       "       '2015-12-31T07:26:37.000000000', '2015-12-31T07:26:38.000000000',\n",
       "       '2015-12-31T07:26:39.000000000'], dtype='datetime64[ns]')"
      ]
     },
     "execution_count": 178,
     "metadata": {},
     "output_type": "execute_result"
    }
   ],
   "source": [
    "data=pd.DataFrame(reduced_data)\n",
    "dff['Date'].values"
   ]
  },
  {
   "cell_type": "code",
   "execution_count": 179,
   "id": "e7035881",
   "metadata": {},
   "outputs": [],
   "source": [
    "data['Time']=dff['Date'].values"
   ]
  },
  {
   "cell_type": "code",
   "execution_count": 180,
   "id": "a069bdda",
   "metadata": {},
   "outputs": [],
   "source": [
    "data=data.set_index('Time')"
   ]
  },
  {
   "cell_type": "code",
   "execution_count": 181,
   "id": "598d2c9f",
   "metadata": {},
   "outputs": [
    {
     "data": {
      "text/html": [
       "<div>\n",
       "<style scoped>\n",
       "    .dataframe tbody tr th:only-of-type {\n",
       "        vertical-align: middle;\n",
       "    }\n",
       "\n",
       "    .dataframe tbody tr th {\n",
       "        vertical-align: top;\n",
       "    }\n",
       "\n",
       "    .dataframe thead th {\n",
       "        text-align: right;\n",
       "    }\n",
       "</style>\n",
       "<table border=\"1\" class=\"dataframe\">\n",
       "  <thead>\n",
       "    <tr style=\"text-align: right;\">\n",
       "      <th></th>\n",
       "      <th>0</th>\n",
       "      <th>1</th>\n",
       "      <th>2</th>\n",
       "      <th>3</th>\n",
       "      <th>4</th>\n",
       "      <th>5</th>\n",
       "      <th>6</th>\n",
       "      <th>7</th>\n",
       "      <th>8</th>\n",
       "      <th>9</th>\n",
       "    </tr>\n",
       "    <tr>\n",
       "      <th>Time</th>\n",
       "      <th></th>\n",
       "      <th></th>\n",
       "      <th></th>\n",
       "      <th></th>\n",
       "      <th></th>\n",
       "      <th></th>\n",
       "      <th></th>\n",
       "      <th></th>\n",
       "      <th></th>\n",
       "      <th></th>\n",
       "    </tr>\n",
       "  </thead>\n",
       "  <tbody>\n",
       "    <tr>\n",
       "      <th>2015-12-28 23:53:20</th>\n",
       "      <td>0.651929</td>\n",
       "      <td>-1.104725</td>\n",
       "      <td>-1.038653</td>\n",
       "      <td>-0.145060</td>\n",
       "      <td>-0.408606</td>\n",
       "      <td>0.068918</td>\n",
       "      <td>0.200201</td>\n",
       "      <td>-0.029613</td>\n",
       "      <td>-0.052283</td>\n",
       "      <td>0.048368</td>\n",
       "    </tr>\n",
       "    <tr>\n",
       "      <th>2015-12-28 23:53:21</th>\n",
       "      <td>0.650837</td>\n",
       "      <td>-1.105281</td>\n",
       "      <td>-1.038620</td>\n",
       "      <td>-0.145163</td>\n",
       "      <td>-0.408411</td>\n",
       "      <td>0.068914</td>\n",
       "      <td>0.200638</td>\n",
       "      <td>-0.028586</td>\n",
       "      <td>-0.052743</td>\n",
       "      <td>0.048785</td>\n",
       "    </tr>\n",
       "    <tr>\n",
       "      <th>2015-12-28 23:53:22</th>\n",
       "      <td>0.650340</td>\n",
       "      <td>-1.105757</td>\n",
       "      <td>-1.039023</td>\n",
       "      <td>-0.144944</td>\n",
       "      <td>-0.408264</td>\n",
       "      <td>0.068892</td>\n",
       "      <td>0.200699</td>\n",
       "      <td>-0.028828</td>\n",
       "      <td>-0.052172</td>\n",
       "      <td>0.048654</td>\n",
       "    </tr>\n",
       "    <tr>\n",
       "      <th>2015-12-28 23:53:23</th>\n",
       "      <td>0.650205</td>\n",
       "      <td>-1.105641</td>\n",
       "      <td>-1.039477</td>\n",
       "      <td>-0.144934</td>\n",
       "      <td>-0.408225</td>\n",
       "      <td>0.069039</td>\n",
       "      <td>0.200620</td>\n",
       "      <td>-0.028471</td>\n",
       "      <td>-0.051526</td>\n",
       "      <td>0.048613</td>\n",
       "    </tr>\n",
       "    <tr>\n",
       "      <th>2015-12-28 23:53:24</th>\n",
       "      <td>0.637777</td>\n",
       "      <td>-1.119641</td>\n",
       "      <td>-1.040857</td>\n",
       "      <td>-0.139725</td>\n",
       "      <td>-0.404100</td>\n",
       "      <td>0.069171</td>\n",
       "      <td>0.125849</td>\n",
       "      <td>-0.031547</td>\n",
       "      <td>-0.058579</td>\n",
       "      <td>0.050948</td>\n",
       "    </tr>\n",
       "  </tbody>\n",
       "</table>\n",
       "</div>"
      ],
      "text/plain": [
       "                            0         1         2         3         4  \\\n",
       "Time                                                                    \n",
       "2015-12-28 23:53:20  0.651929 -1.104725 -1.038653 -0.145060 -0.408606   \n",
       "2015-12-28 23:53:21  0.650837 -1.105281 -1.038620 -0.145163 -0.408411   \n",
       "2015-12-28 23:53:22  0.650340 -1.105757 -1.039023 -0.144944 -0.408264   \n",
       "2015-12-28 23:53:23  0.650205 -1.105641 -1.039477 -0.144934 -0.408225   \n",
       "2015-12-28 23:53:24  0.637777 -1.119641 -1.040857 -0.139725 -0.404100   \n",
       "\n",
       "                            5         6         7         8         9  \n",
       "Time                                                                   \n",
       "2015-12-28 23:53:20  0.068918  0.200201 -0.029613 -0.052283  0.048368  \n",
       "2015-12-28 23:53:21  0.068914  0.200638 -0.028586 -0.052743  0.048785  \n",
       "2015-12-28 23:53:22  0.068892  0.200699 -0.028828 -0.052172  0.048654  \n",
       "2015-12-28 23:53:23  0.069039  0.200620 -0.028471 -0.051526  0.048613  \n",
       "2015-12-28 23:53:24  0.069171  0.125849 -0.031547 -0.058579  0.050948  "
      ]
     },
     "execution_count": 181,
     "metadata": {},
     "output_type": "execute_result"
    }
   ],
   "source": [
    "data.head()"
   ]
  },
  {
   "cell_type": "markdown",
   "id": "229f56a8",
   "metadata": {},
   "source": [
    "# Data preperation for LSTM and Isolation Forest"
   ]
  },
  {
   "cell_type": "markdown",
   "id": "87a2a545",
   "metadata": {},
   "source": [
    "Forward features selection"
   ]
  },
  {
   "cell_type": "code",
   "execution_count": 45,
   "id": "a17c6bd2",
   "metadata": {},
   "outputs": [
    {
     "name": "stderr",
     "output_type": "stream",
     "text": [
      "[Parallel(n_jobs=1)]: Using backend SequentialBackend with 1 concurrent workers.\n",
      "[Parallel(n_jobs=1)]: Done   1 out of   1 | elapsed:   16.5s remaining:    0.0s\n",
      "[Parallel(n_jobs=1)]: Done  44 out of  44 | elapsed:  4.6min finished\n",
      "\n",
      "[2022-12-13 22:25:51] Features: 1/15 -- score: 0.9607571112076426[Parallel(n_jobs=1)]: Using backend SequentialBackend with 1 concurrent workers.\n",
      "[Parallel(n_jobs=1)]: Done   1 out of   1 | elapsed:   13.9s remaining:    0.0s\n",
      "[Parallel(n_jobs=1)]: Done  43 out of  43 | elapsed:  9.6min finished\n",
      "\n",
      "[2022-12-13 22:35:28] Features: 2/15 -- score: 0.9662457026303691[Parallel(n_jobs=1)]: Using backend SequentialBackend with 1 concurrent workers.\n",
      "[Parallel(n_jobs=1)]: Done   1 out of   1 | elapsed:   13.0s remaining:    0.0s\n",
      "[Parallel(n_jobs=1)]: Done  42 out of  42 | elapsed:  7.1min finished\n",
      "\n",
      "[2022-12-13 22:42:34] Features: 3/15 -- score: 0.969190368016654[Parallel(n_jobs=1)]: Using backend SequentialBackend with 1 concurrent workers.\n",
      "[Parallel(n_jobs=1)]: Done   1 out of   1 | elapsed:   14.6s remaining:    0.0s\n",
      "[Parallel(n_jobs=1)]: Done  41 out of  41 | elapsed:  7.9min finished\n",
      "\n",
      "[2022-12-13 22:50:28] Features: 4/15 -- score: 0.9705125175137477[Parallel(n_jobs=1)]: Using backend SequentialBackend with 1 concurrent workers.\n",
      "[Parallel(n_jobs=1)]: Done   1 out of   1 | elapsed:   12.9s remaining:    0.0s\n",
      "[Parallel(n_jobs=1)]: Done  40 out of  40 | elapsed:  8.4min finished\n",
      "\n",
      "[2022-12-13 22:58:54] Features: 5/15 -- score: 0.9728762092672929[Parallel(n_jobs=1)]: Using backend SequentialBackend with 1 concurrent workers.\n",
      "[Parallel(n_jobs=1)]: Done   1 out of   1 | elapsed:   10.9s remaining:    0.0s\n",
      "[Parallel(n_jobs=1)]: Done  39 out of  39 | elapsed:  7.4min finished\n",
      "\n",
      "[2022-12-13 23:06:19] Features: 6/15 -- score: 0.9730965598247792[Parallel(n_jobs=1)]: Using backend SequentialBackend with 1 concurrent workers.\n",
      "[Parallel(n_jobs=1)]: Done   1 out of   1 | elapsed:   11.2s remaining:    0.0s\n",
      "[Parallel(n_jobs=1)]: Done  38 out of  38 | elapsed:  7.0min finished\n",
      "\n",
      "[2022-12-13 23:13:21] Features: 7/15 -- score: 0.9730765317867297[Parallel(n_jobs=1)]: Using backend SequentialBackend with 1 concurrent workers.\n",
      "[Parallel(n_jobs=1)]: Done   1 out of   1 | elapsed:   10.6s remaining:    0.0s\n",
      "[Parallel(n_jobs=1)]: Done  37 out of  37 | elapsed:  6.5min finished\n",
      "\n",
      "[2022-12-13 23:19:52] Features: 8/15 -- score: 0.9730164336262671[Parallel(n_jobs=1)]: Using backend SequentialBackend with 1 concurrent workers.\n",
      "[Parallel(n_jobs=1)]: Done   1 out of   1 | elapsed:   12.2s remaining:    0.0s\n",
      "[Parallel(n_jobs=1)]: Done  36 out of  36 | elapsed:  7.1min finished\n",
      "\n",
      "[2022-12-13 23:26:59] Features: 9/15 -- score: 0.9728962332921093[Parallel(n_jobs=1)]: Using backend SequentialBackend with 1 concurrent workers.\n",
      "[Parallel(n_jobs=1)]: Done   1 out of   1 | elapsed:   12.1s remaining:    0.0s\n",
      "[Parallel(n_jobs=1)]: Done  35 out of  35 | elapsed:  6.8min finished\n",
      "\n",
      "[2022-12-13 23:33:48] Features: 10/15 -- score: 0.9727760329579516[Parallel(n_jobs=1)]: Using backend SequentialBackend with 1 concurrent workers.\n",
      "[Parallel(n_jobs=1)]: Done   1 out of   1 | elapsed:   12.5s remaining:    0.0s\n",
      "[Parallel(n_jobs=1)]: Done  34 out of  34 | elapsed:  6.3min finished\n",
      "\n",
      "[2022-12-13 23:40:07] Features: 11/15 -- score: 0.9729964096014507[Parallel(n_jobs=1)]: Using backend SequentialBackend with 1 concurrent workers.\n",
      "[Parallel(n_jobs=1)]: Done   1 out of   1 | elapsed:   10.8s remaining:    0.0s\n",
      "[Parallel(n_jobs=1)]: Done  33 out of  33 | elapsed:  6.4min finished\n",
      "\n",
      "[2022-12-13 23:46:30] Features: 12/15 -- score: 0.9728161070935976[Parallel(n_jobs=1)]: Using backend SequentialBackend with 1 concurrent workers.\n",
      "[Parallel(n_jobs=1)]: Done   1 out of   1 | elapsed:   13.0s remaining:    0.0s\n",
      "[Parallel(n_jobs=1)]: Done  32 out of  32 | elapsed:  6.1min finished\n",
      "\n",
      "[2022-12-13 23:52:37] Features: 13/15 -- score: 0.9728361411514961[Parallel(n_jobs=1)]: Using backend SequentialBackend with 1 concurrent workers.\n",
      "[Parallel(n_jobs=1)]: Done   1 out of   1 | elapsed:   12.4s remaining:    0.0s\n",
      "[Parallel(n_jobs=1)]: Done  31 out of  31 | elapsed:  5.6min finished\n",
      "\n",
      "[2022-12-13 23:58:16] Features: 14/15 -- score: 0.9727359829017022[Parallel(n_jobs=1)]: Using backend SequentialBackend with 1 concurrent workers.\n",
      "[Parallel(n_jobs=1)]: Done   1 out of   1 | elapsed:   13.5s remaining:    0.0s\n",
      "[Parallel(n_jobs=1)]: Done  30 out of  30 | elapsed:  5.5min finished\n",
      "\n",
      "[2022-12-14 00:03:44] Features: 15/15 -- score: 0.97185456261221"
     ]
    }
   ],
   "source": [
    "from mlxtend.feature_selection import SequentialFeatureSelector as SFS \n",
    "from sklearn.ensemble import RandomForestClassifier\n",
    "\n",
    "df_ = df[400000:]\n",
    "X = df_.drop(['Date', 'Normal/Attack'], axis=1)\n",
    "y = df_['Normal/Attack']\n",
    "\n",
    "sfs = SFS(\n",
    "RandomForestClassifier(),\n",
    "k_features = 15,\n",
    "forward = True,\n",
    "floating = False,\n",
    "verbose= 2,\n",
    "scoring= \"accuracy\").fit(X, y)"
   ]
  },
  {
   "cell_type": "code",
   "execution_count": 48,
   "id": "0819ba6a",
   "metadata": {},
   "outputs": [
    {
     "name": "stdout",
     "output_type": "stream",
     "text": [
      "['FIT101', ' MV101', 'P101', 'P102', ' MV201', 'P203', ' P204', 'P205', 'P206', 'LIT301', 'P402', 'P403', 'UV401', 'FIT502', 'P501']\n"
     ]
    }
   ],
   "source": [
    "feat_names = list(sfs.k_feature_names_)\n",
    "print(feat_names)"
   ]
  },
  {
   "cell_type": "code",
   "execution_count": 49,
   "id": "25532cd2",
   "metadata": {},
   "outputs": [],
   "source": [
    "feat_names.append('Date')\n",
    "feat_names.append('Normal/Attack')\n",
    "df = df [feat_names]"
   ]
  },
  {
   "cell_type": "code",
   "execution_count": 42,
   "id": "d4904d94",
   "metadata": {},
   "outputs": [
    {
     "data": {
      "text/plain": [
       "(449919, 17)"
      ]
     },
     "execution_count": 42,
     "metadata": {},
     "output_type": "execute_result"
    }
   ],
   "source": [
    "df.shape #after"
   ]
  },
  {
   "cell_type": "code",
   "execution_count": 43,
   "id": "195bc223",
   "metadata": {},
   "outputs": [
    {
     "data": {
      "text/html": [
       "<div>\n",
       "<style scoped>\n",
       "    .dataframe tbody tr th:only-of-type {\n",
       "        vertical-align: middle;\n",
       "    }\n",
       "\n",
       "    .dataframe tbody tr th {\n",
       "        vertical-align: top;\n",
       "    }\n",
       "\n",
       "    .dataframe thead th {\n",
       "        text-align: right;\n",
       "    }\n",
       "</style>\n",
       "<table border=\"1\" class=\"dataframe\">\n",
       "  <thead>\n",
       "    <tr style=\"text-align: right;\">\n",
       "      <th></th>\n",
       "      <th>Date</th>\n",
       "      <th>FIT101</th>\n",
       "      <th>MV101</th>\n",
       "      <th>P101</th>\n",
       "      <th>P102</th>\n",
       "      <th>MV201</th>\n",
       "      <th>P203</th>\n",
       "      <th>P204</th>\n",
       "      <th>P205</th>\n",
       "      <th>P206</th>\n",
       "      <th>LIT301</th>\n",
       "      <th>P402</th>\n",
       "      <th>P403</th>\n",
       "      <th>UV401</th>\n",
       "      <th>FIT502</th>\n",
       "      <th>P501</th>\n",
       "      <th>Normal/Attack</th>\n",
       "    </tr>\n",
       "  </thead>\n",
       "  <tbody>\n",
       "    <tr>\n",
       "      <th>0</th>\n",
       "      <td>2015-12-28 10:00:00</td>\n",
       "      <td>2.427057</td>\n",
       "      <td>2</td>\n",
       "      <td>2</td>\n",
       "      <td>1</td>\n",
       "      <td>2</td>\n",
       "      <td>2</td>\n",
       "      <td>1</td>\n",
       "      <td>2</td>\n",
       "      <td>1</td>\n",
       "      <td>956.1651</td>\n",
       "      <td>2</td>\n",
       "      <td>1</td>\n",
       "      <td>2</td>\n",
       "      <td>1.279621</td>\n",
       "      <td>2</td>\n",
       "      <td>Normal</td>\n",
       "    </tr>\n",
       "    <tr>\n",
       "      <th>1</th>\n",
       "      <td>2015-12-28 10:00:01</td>\n",
       "      <td>2.446274</td>\n",
       "      <td>2</td>\n",
       "      <td>2</td>\n",
       "      <td>1</td>\n",
       "      <td>2</td>\n",
       "      <td>2</td>\n",
       "      <td>1</td>\n",
       "      <td>2</td>\n",
       "      <td>1</td>\n",
       "      <td>956.1651</td>\n",
       "      <td>2</td>\n",
       "      <td>1</td>\n",
       "      <td>2</td>\n",
       "      <td>1.297554</td>\n",
       "      <td>2</td>\n",
       "      <td>Normal</td>\n",
       "    </tr>\n",
       "    <tr>\n",
       "      <th>2</th>\n",
       "      <td>2015-12-28 10:00:02</td>\n",
       "      <td>2.489191</td>\n",
       "      <td>2</td>\n",
       "      <td>2</td>\n",
       "      <td>1</td>\n",
       "      <td>2</td>\n",
       "      <td>2</td>\n",
       "      <td>1</td>\n",
       "      <td>2</td>\n",
       "      <td>1</td>\n",
       "      <td>956.4855</td>\n",
       "      <td>2</td>\n",
       "      <td>1</td>\n",
       "      <td>2</td>\n",
       "      <td>1.293967</td>\n",
       "      <td>2</td>\n",
       "      <td>Normal</td>\n",
       "    </tr>\n",
       "    <tr>\n",
       "      <th>3</th>\n",
       "      <td>2015-12-28 10:00:03</td>\n",
       "      <td>2.534350</td>\n",
       "      <td>2</td>\n",
       "      <td>2</td>\n",
       "      <td>1</td>\n",
       "      <td>2</td>\n",
       "      <td>2</td>\n",
       "      <td>1</td>\n",
       "      <td>2</td>\n",
       "      <td>1</td>\n",
       "      <td>956.8060</td>\n",
       "      <td>2</td>\n",
       "      <td>1</td>\n",
       "      <td>2</td>\n",
       "      <td>1.281158</td>\n",
       "      <td>2</td>\n",
       "      <td>Normal</td>\n",
       "    </tr>\n",
       "    <tr>\n",
       "      <th>4</th>\n",
       "      <td>2015-12-28 10:00:04</td>\n",
       "      <td>2.569260</td>\n",
       "      <td>2</td>\n",
       "      <td>2</td>\n",
       "      <td>1</td>\n",
       "      <td>2</td>\n",
       "      <td>2</td>\n",
       "      <td>1</td>\n",
       "      <td>2</td>\n",
       "      <td>1</td>\n",
       "      <td>957.0864</td>\n",
       "      <td>2</td>\n",
       "      <td>1</td>\n",
       "      <td>2</td>\n",
       "      <td>1.281158</td>\n",
       "      <td>2</td>\n",
       "      <td>Normal</td>\n",
       "    </tr>\n",
       "  </tbody>\n",
       "</table>\n",
       "</div>"
      ],
      "text/plain": [
       "                 Date    FIT101   MV101  P101  P102   MV201  P203   P204  \\\n",
       "0 2015-12-28 10:00:00  2.427057       2     2     1       2     2      1   \n",
       "1 2015-12-28 10:00:01  2.446274       2     2     1       2     2      1   \n",
       "2 2015-12-28 10:00:02  2.489191       2     2     1       2     2      1   \n",
       "3 2015-12-28 10:00:03  2.534350       2     2     1       2     2      1   \n",
       "4 2015-12-28 10:00:04  2.569260       2     2     1       2     2      1   \n",
       "\n",
       "   P205  P206    LIT301  P402  P403  UV401    FIT502  P501 Normal/Attack  \n",
       "0     2     1  956.1651     2     1      2  1.279621     2        Normal  \n",
       "1     2     1  956.1651     2     1      2  1.297554     2        Normal  \n",
       "2     2     1  956.4855     2     1      2  1.293967     2        Normal  \n",
       "3     2     1  956.8060     2     1      2  1.281158     2        Normal  \n",
       "4     2     1  957.0864     2     1      2  1.281158     2        Normal  "
      ]
     },
     "execution_count": 43,
     "metadata": {},
     "output_type": "execute_result"
    }
   ],
   "source": [
    "df.head()"
   ]
  },
  {
   "cell_type": "markdown",
   "id": "8aa1152e",
   "metadata": {},
   "source": [
    "Numerical and Categorical columns :"
   ]
  },
  {
   "cell_type": "code",
   "execution_count": 320,
   "id": "6d633066",
   "metadata": {},
   "outputs": [
    {
     "data": {
      "text/plain": [
       "Date             449919\n",
       "FIT101             2788\n",
       " MV101                3\n",
       "P101                  2\n",
       "P102                  2\n",
       " MV201                3\n",
       "P203                  2\n",
       " P204                 2\n",
       "P205                  2\n",
       "P206                  2\n",
       "LIT301             7274\n",
       "P402                  2\n",
       "P403                  2\n",
       "UV401                 2\n",
       "FIT502             1199\n",
       "P501                  2\n",
       "Normal/Attack         3\n",
       "dtype: int64"
      ]
     },
     "execution_count": 320,
     "metadata": {},
     "output_type": "execute_result"
    }
   ],
   "source": [
    "df.nunique()"
   ]
  },
  {
   "cell_type": "code",
   "execution_count": 321,
   "id": "13867979",
   "metadata": {},
   "outputs": [],
   "source": [
    "num_col = ['FIT101','LIT301','FIT502']"
   ]
  },
  {
   "cell_type": "code",
   "execution_count": 322,
   "id": "f5825daf",
   "metadata": {},
   "outputs": [
    {
     "data": {
      "image/png": "[encoded data removed]",
      "text/plain": [
       "<Figure size 1080x1080 with 4 Axes>"
      ]
     },
     "metadata": {
      "needs_background": "light"
     },
     "output_type": "display_data"
    }
   ],
   "source": [
    "df[num_col].hist(bins=20,figsize=(15, 15))\n",
    "plt.show()"
   ]
  },
  {
   "cell_type": "code",
   "execution_count": 323,
   "id": "a7f2df4d",
   "metadata": {},
   "outputs": [],
   "source": [
    "cat_col = [\" MV101\",\"P101\",\"P102\",\" MV201\",\"P203\",\" P204\",\"P205\",\"P206\",\"P402\",\"P403\",\"P501\"]"
   ]
  },
  {
   "cell_type": "code",
   "execution_count": 324,
   "id": "1700092f",
   "metadata": {},
   "outputs": [
    {
     "data": {
      "image/png": "[encoded data removed]",
      "text/plain": [
       "<Figure size 1296x864 with 11 Axes>"
      ]
     },
     "metadata": {
      "needs_background": "light"
     },
     "output_type": "display_data"
    }
   ],
   "source": [
    "plt.figure(figsize=(18, 12))\n",
    "for i, var in enumerate(cat_col):\n",
    "    plt.subplot(4, 4, i+1)\n",
    "    plt.title(var, fontsize=14)\n",
    "    plt.xlabel(var, fontsize=12)\n",
    "    plt.ylabel(\"Count\", fontsize=12)\n",
    "    plt.subplots_adjust(hspace = 0.4, wspace = 0.3)\n",
    "    sns.countplot(data= df, x = var, palette = ['brown', \"orange\"])"
   ]
  },
  {
   "cell_type": "code",
   "execution_count": 325,
   "id": "a90f0b1e",
   "metadata": {},
   "outputs": [
    {
     "data": {
      "text/html": [
       "<div>\n",
       "<style scoped>\n",
       "    .dataframe tbody tr th:only-of-type {\n",
       "        vertical-align: middle;\n",
       "    }\n",
       "\n",
       "    .dataframe tbody tr th {\n",
       "        vertical-align: top;\n",
       "    }\n",
       "\n",
       "    .dataframe thead th {\n",
       "        text-align: right;\n",
       "    }\n",
       "</style>\n",
       "<table border=\"1\" class=\"dataframe\">\n",
       "  <thead>\n",
       "    <tr style=\"text-align: right;\">\n",
       "      <th></th>\n",
       "      <th>Date</th>\n",
       "      <th>FIT101</th>\n",
       "      <th>LIT301</th>\n",
       "      <th>UV401</th>\n",
       "      <th>FIT502</th>\n",
       "      <th>Normal/Attack</th>\n",
       "      <th>MV101_0</th>\n",
       "      <th>MV101_1</th>\n",
       "      <th>MV101_2</th>\n",
       "      <th>P101_1</th>\n",
       "      <th>...</th>\n",
       "      <th>P205_1</th>\n",
       "      <th>P205_2</th>\n",
       "      <th>P206_1</th>\n",
       "      <th>P206_2</th>\n",
       "      <th>P402_1</th>\n",
       "      <th>P402_2</th>\n",
       "      <th>P403_1</th>\n",
       "      <th>P403_2</th>\n",
       "      <th>P501_1</th>\n",
       "      <th>P501_2</th>\n",
       "    </tr>\n",
       "  </thead>\n",
       "  <tbody>\n",
       "    <tr>\n",
       "      <th>0</th>\n",
       "      <td>2015-12-28 10:00:00</td>\n",
       "      <td>2.427057</td>\n",
       "      <td>956.1651</td>\n",
       "      <td>2</td>\n",
       "      <td>1.279621</td>\n",
       "      <td>Normal</td>\n",
       "      <td>0</td>\n",
       "      <td>0</td>\n",
       "      <td>1</td>\n",
       "      <td>0</td>\n",
       "      <td>...</td>\n",
       "      <td>0</td>\n",
       "      <td>1</td>\n",
       "      <td>1</td>\n",
       "      <td>0</td>\n",
       "      <td>0</td>\n",
       "      <td>1</td>\n",
       "      <td>1</td>\n",
       "      <td>0</td>\n",
       "      <td>0</td>\n",
       "      <td>1</td>\n",
       "    </tr>\n",
       "    <tr>\n",
       "      <th>1</th>\n",
       "      <td>2015-12-28 10:00:01</td>\n",
       "      <td>2.446274</td>\n",
       "      <td>956.1651</td>\n",
       "      <td>2</td>\n",
       "      <td>1.297554</td>\n",
       "      <td>Normal</td>\n",
       "      <td>0</td>\n",
       "      <td>0</td>\n",
       "      <td>1</td>\n",
       "      <td>0</td>\n",
       "      <td>...</td>\n",
       "      <td>0</td>\n",
       "      <td>1</td>\n",
       "      <td>1</td>\n",
       "      <td>0</td>\n",
       "      <td>0</td>\n",
       "      <td>1</td>\n",
       "      <td>1</td>\n",
       "      <td>0</td>\n",
       "      <td>0</td>\n",
       "      <td>1</td>\n",
       "    </tr>\n",
       "    <tr>\n",
       "      <th>2</th>\n",
       "      <td>2015-12-28 10:00:02</td>\n",
       "      <td>2.489191</td>\n",
       "      <td>956.4855</td>\n",
       "      <td>2</td>\n",
       "      <td>1.293967</td>\n",
       "      <td>Normal</td>\n",
       "      <td>0</td>\n",
       "      <td>0</td>\n",
       "      <td>1</td>\n",
       "      <td>0</td>\n",
       "      <td>...</td>\n",
       "      <td>0</td>\n",
       "      <td>1</td>\n",
       "      <td>1</td>\n",
       "      <td>0</td>\n",
       "      <td>0</td>\n",
       "      <td>1</td>\n",
       "      <td>1</td>\n",
       "      <td>0</td>\n",
       "      <td>0</td>\n",
       "      <td>1</td>\n",
       "    </tr>\n",
       "    <tr>\n",
       "      <th>3</th>\n",
       "      <td>2015-12-28 10:00:03</td>\n",
       "      <td>2.534350</td>\n",
       "      <td>956.8060</td>\n",
       "      <td>2</td>\n",
       "      <td>1.281158</td>\n",
       "      <td>Normal</td>\n",
       "      <td>0</td>\n",
       "      <td>0</td>\n",
       "      <td>1</td>\n",
       "      <td>0</td>\n",
       "      <td>...</td>\n",
       "      <td>0</td>\n",
       "      <td>1</td>\n",
       "      <td>1</td>\n",
       "      <td>0</td>\n",
       "      <td>0</td>\n",
       "      <td>1</td>\n",
       "      <td>1</td>\n",
       "      <td>0</td>\n",
       "      <td>0</td>\n",
       "      <td>1</td>\n",
       "    </tr>\n",
       "    <tr>\n",
       "      <th>4</th>\n",
       "      <td>2015-12-28 10:00:04</td>\n",
       "      <td>2.569260</td>\n",
       "      <td>957.0864</td>\n",
       "      <td>2</td>\n",
       "      <td>1.281158</td>\n",
       "      <td>Normal</td>\n",
       "      <td>0</td>\n",
       "      <td>0</td>\n",
       "      <td>1</td>\n",
       "      <td>0</td>\n",
       "      <td>...</td>\n",
       "      <td>0</td>\n",
       "      <td>1</td>\n",
       "      <td>1</td>\n",
       "      <td>0</td>\n",
       "      <td>0</td>\n",
       "      <td>1</td>\n",
       "      <td>1</td>\n",
       "      <td>0</td>\n",
       "      <td>0</td>\n",
       "      <td>1</td>\n",
       "    </tr>\n",
       "  </tbody>\n",
       "</table>\n",
       "<p>5 rows × 30 columns</p>\n",
       "</div>"
      ],
      "text/plain": [
       "                 Date    FIT101    LIT301  UV401    FIT502 Normal/Attack  \\\n",
       "0 2015-12-28 10:00:00  2.427057  956.1651      2  1.279621        Normal   \n",
       "1 2015-12-28 10:00:01  2.446274  956.1651      2  1.297554        Normal   \n",
       "2 2015-12-28 10:00:02  2.489191  956.4855      2  1.293967        Normal   \n",
       "3 2015-12-28 10:00:03  2.534350  956.8060      2  1.281158        Normal   \n",
       "4 2015-12-28 10:00:04  2.569260  957.0864      2  1.281158        Normal   \n",
       "\n",
       "    MV101_0   MV101_1   MV101_2  P101_1  ...  P205_1  P205_2  P206_1  P206_2  \\\n",
       "0         0         0         1       0  ...       0       1       1       0   \n",
       "1         0         0         1       0  ...       0       1       1       0   \n",
       "2         0         0         1       0  ...       0       1       1       0   \n",
       "3         0         0         1       0  ...       0       1       1       0   \n",
       "4         0         0         1       0  ...       0       1       1       0   \n",
       "\n",
       "   P402_1  P402_2  P403_1  P403_2  P501_1  P501_2  \n",
       "0       0       1       1       0       0       1  \n",
       "1       0       1       1       0       0       1  \n",
       "2       0       1       1       0       0       1  \n",
       "3       0       1       1       0       0       1  \n",
       "4       0       1       1       0       0       1  \n",
       "\n",
       "[5 rows x 30 columns]"
      ]
     },
     "execution_count": 325,
     "metadata": {},
     "output_type": "execute_result"
    }
   ],
   "source": [
    "# One-Hot Encoding to Categorical features\n",
    "one_hot_encoded_data = pd.get_dummies(df,columns=cat_col)\n",
    "one_hot_encoded_data.head()"
   ]
  },
  {
   "cell_type": "code",
   "execution_count": 326,
   "id": "18631f4f",
   "metadata": {},
   "outputs": [],
   "source": [
    "processed_df = one_hot_encoded_data"
   ]
  },
  {
   "cell_type": "markdown",
   "id": "1aecb778",
   "metadata": {},
   "source": [
    "# VAR model"
   ]
  },
  {
   "cell_type": "code",
   "execution_count": 182,
   "id": "dce95238",
   "metadata": {},
   "outputs": [],
   "source": [
    "def test_stationarity(data, column='', signif=0.05, series=False):\n",
    "    if series:\n",
    "        adf_test = adfuller(data, autolag='AIC')\n",
    "    else:\n",
    "        adf_test = adfuller(data[column], autolag='AIC')\n",
    "    p_value = adf_test[1]\n",
    "    if p_value <= signif:\n",
    "        test_result = \"Stationary\"\n",
    "    else:\n",
    "        test_result = \"Non-Stationary\"\n",
    "    return test_result"
   ]
  },
  {
   "cell_type": "code",
   "execution_count": 183,
   "id": "85b47990",
   "metadata": {},
   "outputs": [
    {
     "data": {
      "text/plain": [
       "{0: 'Stationary',\n",
       " 1: 'Stationary',\n",
       " 2: 'Stationary',\n",
       " 3: 'Stationary',\n",
       " 4: 'Stationary',\n",
       " 5: 'Stationary',\n",
       " 6: 'Non-Stationary',\n",
       " 7: 'Stationary',\n",
       " 8: 'Stationary',\n",
       " 9: 'Stationary'}"
      ]
     },
     "execution_count": 183,
     "metadata": {},
     "output_type": "execute_result"
    }
   ],
   "source": [
    "adf_test_results = {\n",
    "    col: test_stationarity(data, col)\n",
    "    for col in data.columns\n",
    "}\n",
    "adf_test_results"
   ]
  },
  {
   "cell_type": "code",
   "execution_count": 204,
   "id": "7f53e770",
   "metadata": {},
   "outputs": [],
   "source": [
    "def differencing(data, column, order):\n",
    "    differenced_data = data[column].diff(order)\n",
    "    differenced_data.fillna(differenced_data.mean(), inplace=True)\n",
    "    return differenced_data\n",
    "\n",
    "data[6] = differencing(data, 6, 1)"
   ]
  },
  {
   "cell_type": "code",
   "execution_count": 205,
   "id": "ea8ec487",
   "metadata": {},
   "outputs": [
    {
     "data": {
      "text/plain": [
       "'Stationary'"
      ]
     },
     "execution_count": 205,
     "metadata": {},
     "output_type": "execute_result"
    }
   ],
   "source": [
    "adf_test_results =test_stationarity(data, 6)\n",
    "\n",
    "adf_test_results"
   ]
  },
  {
   "cell_type": "code",
   "execution_count": 206,
   "id": "5fb2f38e",
   "metadata": {},
   "outputs": [
    {
     "data": {
      "text/html": [
       "<div>\n",
       "<style scoped>\n",
       "    .dataframe tbody tr th:only-of-type {\n",
       "        vertical-align: middle;\n",
       "    }\n",
       "\n",
       "    .dataframe tbody tr th {\n",
       "        vertical-align: top;\n",
       "    }\n",
       "\n",
       "    .dataframe thead th {\n",
       "        text-align: right;\n",
       "    }\n",
       "</style>\n",
       "<table border=\"1\" class=\"dataframe\">\n",
       "  <thead>\n",
       "    <tr style=\"text-align: right;\">\n",
       "      <th></th>\n",
       "      <th>0</th>\n",
       "      <th>1</th>\n",
       "      <th>2</th>\n",
       "      <th>3</th>\n",
       "      <th>4</th>\n",
       "      <th>5</th>\n",
       "      <th>6</th>\n",
       "      <th>7</th>\n",
       "      <th>8</th>\n",
       "      <th>9</th>\n",
       "    </tr>\n",
       "    <tr>\n",
       "      <th>Time</th>\n",
       "      <th></th>\n",
       "      <th></th>\n",
       "      <th></th>\n",
       "      <th></th>\n",
       "      <th></th>\n",
       "      <th></th>\n",
       "      <th></th>\n",
       "      <th></th>\n",
       "      <th></th>\n",
       "      <th></th>\n",
       "    </tr>\n",
       "  </thead>\n",
       "  <tbody>\n",
       "    <tr>\n",
       "      <th>2015-12-28 23:53:20</th>\n",
       "      <td>0.651929</td>\n",
       "      <td>-1.104725</td>\n",
       "      <td>-1.038653</td>\n",
       "      <td>-0.145060</td>\n",
       "      <td>-0.408606</td>\n",
       "      <td>0.068918</td>\n",
       "      <td>4.120535e-12</td>\n",
       "      <td>-0.029613</td>\n",
       "      <td>-0.052283</td>\n",
       "      <td>0.048368</td>\n",
       "    </tr>\n",
       "    <tr>\n",
       "      <th>2015-12-28 23:53:21</th>\n",
       "      <td>0.650837</td>\n",
       "      <td>-1.105281</td>\n",
       "      <td>-1.038620</td>\n",
       "      <td>-0.145163</td>\n",
       "      <td>-0.408411</td>\n",
       "      <td>0.068914</td>\n",
       "      <td>4.374191e-04</td>\n",
       "      <td>-0.028586</td>\n",
       "      <td>-0.052743</td>\n",
       "      <td>0.048785</td>\n",
       "    </tr>\n",
       "    <tr>\n",
       "      <th>2015-12-28 23:53:22</th>\n",
       "      <td>0.650340</td>\n",
       "      <td>-1.105757</td>\n",
       "      <td>-1.039023</td>\n",
       "      <td>-0.144944</td>\n",
       "      <td>-0.408264</td>\n",
       "      <td>0.068892</td>\n",
       "      <td>-3.746005e-04</td>\n",
       "      <td>-0.028828</td>\n",
       "      <td>-0.052172</td>\n",
       "      <td>0.048654</td>\n",
       "    </tr>\n",
       "    <tr>\n",
       "      <th>2015-12-28 23:53:23</th>\n",
       "      <td>0.650205</td>\n",
       "      <td>-1.105641</td>\n",
       "      <td>-1.039477</td>\n",
       "      <td>-0.144934</td>\n",
       "      <td>-0.408225</td>\n",
       "      <td>0.069039</td>\n",
       "      <td>-1.410798e-04</td>\n",
       "      <td>-0.028471</td>\n",
       "      <td>-0.051526</td>\n",
       "      <td>0.048613</td>\n",
       "    </tr>\n",
       "    <tr>\n",
       "      <th>2015-12-28 23:53:24</th>\n",
       "      <td>0.637777</td>\n",
       "      <td>-1.119641</td>\n",
       "      <td>-1.040857</td>\n",
       "      <td>-0.139725</td>\n",
       "      <td>-0.404100</td>\n",
       "      <td>0.069171</td>\n",
       "      <td>-7.469149e-02</td>\n",
       "      <td>-0.031547</td>\n",
       "      <td>-0.058579</td>\n",
       "      <td>0.050948</td>\n",
       "    </tr>\n",
       "  </tbody>\n",
       "</table>\n",
       "</div>"
      ],
      "text/plain": [
       "                            0         1         2         3         4  \\\n",
       "Time                                                                    \n",
       "2015-12-28 23:53:20  0.651929 -1.104725 -1.038653 -0.145060 -0.408606   \n",
       "2015-12-28 23:53:21  0.650837 -1.105281 -1.038620 -0.145163 -0.408411   \n",
       "2015-12-28 23:53:22  0.650340 -1.105757 -1.039023 -0.144944 -0.408264   \n",
       "2015-12-28 23:53:23  0.650205 -1.105641 -1.039477 -0.144934 -0.408225   \n",
       "2015-12-28 23:53:24  0.637777 -1.119641 -1.040857 -0.139725 -0.404100   \n",
       "\n",
       "                            5             6         7         8         9  \n",
       "Time                                                                       \n",
       "2015-12-28 23:53:20  0.068918  4.120535e-12 -0.029613 -0.052283  0.048368  \n",
       "2015-12-28 23:53:21  0.068914  4.374191e-04 -0.028586 -0.052743  0.048785  \n",
       "2015-12-28 23:53:22  0.068892 -3.746005e-04 -0.028828 -0.052172  0.048654  \n",
       "2015-12-28 23:53:23  0.069039 -1.410798e-04 -0.028471 -0.051526  0.048613  \n",
       "2015-12-28 23:53:24  0.069171 -7.469149e-02 -0.031547 -0.058579  0.050948  "
      ]
     },
     "execution_count": 206,
     "metadata": {},
     "output_type": "execute_result"
    }
   ],
   "source": [
    "data.head()"
   ]
  },
  {
   "cell_type": "code",
   "execution_count": 207,
   "id": "648f79ad",
   "metadata": {},
   "outputs": [
    {
     "name": "stdout",
     "output_type": "stream",
     "text": [
      "6\n"
     ]
    }
   ],
   "source": [
    "from statsmodels.tsa.api import VAR\n",
    "max_lag = 6\n",
    "var_model = VAR(data)\n",
    "# select the best lag order\n",
    "lag_results = var_model.select_order(max_lag)\n",
    "print(lag_results.aic)"
   ]
  },
  {
   "cell_type": "code",
   "execution_count": 258,
   "id": "8f644ad6",
   "metadata": {},
   "outputs": [
    {
     "name": "stdout",
     "output_type": "stream",
     "text": [
      "0.0003\n"
     ]
    }
   ],
   "source": [
    "def find_anomalies(squared_errors):\n",
    "    threshold = 0.0003\n",
    "    print(threshold)\n",
    "    predictions = (squared_errors >= threshold).astype(int)\n",
    "    return predictions, threshold\n",
    "var = VAR(data)\n",
    "var_fitresults = var.fit(lag_results.aic)\n",
    "squared_errors = var_fitresults.resid.sum(axis=1) ** 2\n",
    "predictions, threshold = find_anomalies(squared_errors)"
   ]
  },
  {
   "cell_type": "code",
   "execution_count": 259,
   "id": "fabd0fc3",
   "metadata": {},
   "outputs": [
    {
     "data": {
      "text/plain": [
       "0    179470\n",
       "1     20524\n",
       "dtype: int64"
      ]
     },
     "execution_count": 259,
     "metadata": {},
     "output_type": "execute_result"
    }
   ],
   "source": [
    "predictions.value_counts()"
   ]
  },
  {
   "cell_type": "code",
   "execution_count": 260,
   "id": "9216c6e0",
   "metadata": {},
   "outputs": [
    {
     "data": {
      "text/plain": [
       "0    179470\n",
       "1     20524\n",
       "Name: Predictions, dtype: int64"
      ]
     },
     "execution_count": 260,
     "metadata": {},
     "output_type": "execute_result"
    }
   ],
   "source": [
    "res = data.iloc[6:, :]\n",
    "res['Predictions'] = predictions.values\n",
    "res['Predictions'].value_counts()"
   ]
  },
  {
   "cell_type": "code",
   "execution_count": 261,
   "id": "84016032",
   "metadata": {},
   "outputs": [
    {
     "data": {
      "text/plain": [
       "0    170535\n",
       "1     29463\n",
       "Name: Normal/Attack, dtype: int64"
      ]
     },
     "execution_count": 261,
     "metadata": {},
     "output_type": "execute_result"
    }
   ],
   "source": [
    "target1.replace({\"Normal\": 0,\"Attack\":1,\"A ttack\":1}, inplace=True)\n",
    "target1[2:].value_counts()"
   ]
  },
  {
   "cell_type": "code",
   "execution_count": 262,
   "id": "7ae52d22",
   "metadata": {},
   "outputs": [
    {
     "data": {
      "text/plain": [
       "0    170531\n",
       "1     29463\n",
       "Name: Real, dtype: int64"
      ]
     },
     "execution_count": 262,
     "metadata": {},
     "output_type": "execute_result"
    }
   ],
   "source": [
    "res['Real'] = target1[6:].values\n",
    "res['Real'].value_counts()"
   ]
  },
  {
   "cell_type": "code",
   "execution_count": 263,
   "id": "83747f04",
   "metadata": {},
   "outputs": [
    {
     "name": "stdout",
     "output_type": "stream",
     "text": [
      "Accuracy is: 0.7555876676300289\n"
     ]
    }
   ],
   "source": [
    "predicted = res['Predictions']\n",
    "actual = res['Real']\n",
    "\n",
    "correct_pred = 0\n",
    "\n",
    "for i in range(len(predicted)):\n",
    "    if -predicted[i] == actual[i]:\n",
    "        correct_pred = correct_pred +1\n",
    "        \n",
    "score = correct_pred / len(actual)\n",
    "\n",
    "print(\"Accuracy is:\",score)"
   ]
  },
  {
   "cell_type": "code",
   "execution_count": 264,
   "id": "40382f8e",
   "metadata": {},
   "outputs": [
    {
     "name": "stdout",
     "output_type": "stream",
     "text": [
      "Root Mean Square Error:\n",
      "\n",
      "0.4887557329228926\n"
     ]
    }
   ],
   "source": [
    "MSE = np.square(np.subtract(actual,predicted)).mean() \n",
    " \n",
    "RMSE = math.sqrt(MSE)\n",
    "print(\"Root Mean Square Error:\\n\")\n",
    "print(RMSE)"
   ]
  },
  {
   "cell_type": "markdown",
   "id": "8ba6986e",
   "metadata": {},
   "source": [
    "# Isolation Forest\n"
   ]
  },
  {
   "cell_type": "markdown",
   "id": "97b16af0",
   "metadata": {},
   "source": [
    "Data normalization"
   ]
  },
  {
   "cell_type": "code",
   "execution_count": 166,
   "id": "0ce94572",
   "metadata": {},
   "outputs": [],
   "source": [
    "Date_column = df['Date'] #make a copy of Date column to use later\n",
    "df_copy = df\n",
    "df_IF = processed_df\n",
    "df_IF = df_IF.drop('Date', axis=1)\n",
    "df_IF = df_IF.drop('Normal/Attack', axis=1) \n",
    "min_max_scaler = preprocessing.MinMaxScaler()\n",
    "x_scaled = min_max_scaler.fit_transform(df_IF)\n",
    "df_IF = pd.DataFrame(x_scaled, index=df_IF.index, columns=df_IF.columns)"
   ]
  },
  {
   "cell_type": "code",
   "execution_count": 167,
   "id": "5e9ac71b",
   "metadata": {},
   "outputs": [
    {
     "data": {
      "text/html": [
       "<div>\n",
       "<style scoped>\n",
       "    .dataframe tbody tr th:only-of-type {\n",
       "        vertical-align: middle;\n",
       "    }\n",
       "\n",
       "    .dataframe tbody tr th {\n",
       "        vertical-align: top;\n",
       "    }\n",
       "\n",
       "    .dataframe thead th {\n",
       "        text-align: right;\n",
       "    }\n",
       "</style>\n",
       "<table border=\"1\" class=\"dataframe\">\n",
       "  <thead>\n",
       "    <tr style=\"text-align: right;\">\n",
       "      <th></th>\n",
       "      <th>FIT101</th>\n",
       "      <th>LIT301</th>\n",
       "      <th>UV401</th>\n",
       "      <th>FIT502</th>\n",
       "      <th>MV101_0</th>\n",
       "      <th>MV101_1</th>\n",
       "      <th>MV101_2</th>\n",
       "      <th>P101_1</th>\n",
       "      <th>P101_2</th>\n",
       "      <th>P102_1</th>\n",
       "      <th>...</th>\n",
       "      <th>P205_1</th>\n",
       "      <th>P205_2</th>\n",
       "      <th>P206_1</th>\n",
       "      <th>P206_2</th>\n",
       "      <th>P402_1</th>\n",
       "      <th>P402_2</th>\n",
       "      <th>P403_1</th>\n",
       "      <th>P403_2</th>\n",
       "      <th>P501_1</th>\n",
       "      <th>P501_2</th>\n",
       "    </tr>\n",
       "  </thead>\n",
       "  <tbody>\n",
       "    <tr>\n",
       "      <th>0</th>\n",
       "      <td>0.879322</td>\n",
       "      <td>0.707350</td>\n",
       "      <td>1.0</td>\n",
       "      <td>0.940678</td>\n",
       "      <td>0.0</td>\n",
       "      <td>0.0</td>\n",
       "      <td>1.0</td>\n",
       "      <td>0.0</td>\n",
       "      <td>1.0</td>\n",
       "      <td>1.0</td>\n",
       "      <td>...</td>\n",
       "      <td>0.0</td>\n",
       "      <td>1.0</td>\n",
       "      <td>1.0</td>\n",
       "      <td>0.0</td>\n",
       "      <td>0.0</td>\n",
       "      <td>1.0</td>\n",
       "      <td>1.0</td>\n",
       "      <td>0.0</td>\n",
       "      <td>0.0</td>\n",
       "      <td>1.0</td>\n",
       "    </tr>\n",
       "    <tr>\n",
       "      <th>1</th>\n",
       "      <td>0.886285</td>\n",
       "      <td>0.707350</td>\n",
       "      <td>1.0</td>\n",
       "      <td>0.953861</td>\n",
       "      <td>0.0</td>\n",
       "      <td>0.0</td>\n",
       "      <td>1.0</td>\n",
       "      <td>0.0</td>\n",
       "      <td>1.0</td>\n",
       "      <td>1.0</td>\n",
       "      <td>...</td>\n",
       "      <td>0.0</td>\n",
       "      <td>1.0</td>\n",
       "      <td>1.0</td>\n",
       "      <td>0.0</td>\n",
       "      <td>0.0</td>\n",
       "      <td>1.0</td>\n",
       "      <td>1.0</td>\n",
       "      <td>0.0</td>\n",
       "      <td>0.0</td>\n",
       "      <td>1.0</td>\n",
       "    </tr>\n",
       "    <tr>\n",
       "      <th>2</th>\n",
       "      <td>0.901833</td>\n",
       "      <td>0.707733</td>\n",
       "      <td>1.0</td>\n",
       "      <td>0.951224</td>\n",
       "      <td>0.0</td>\n",
       "      <td>0.0</td>\n",
       "      <td>1.0</td>\n",
       "      <td>0.0</td>\n",
       "      <td>1.0</td>\n",
       "      <td>1.0</td>\n",
       "      <td>...</td>\n",
       "      <td>0.0</td>\n",
       "      <td>1.0</td>\n",
       "      <td>1.0</td>\n",
       "      <td>0.0</td>\n",
       "      <td>0.0</td>\n",
       "      <td>1.0</td>\n",
       "      <td>1.0</td>\n",
       "      <td>0.0</td>\n",
       "      <td>0.0</td>\n",
       "      <td>1.0</td>\n",
       "    </tr>\n",
       "    <tr>\n",
       "      <th>3</th>\n",
       "      <td>0.918195</td>\n",
       "      <td>0.708116</td>\n",
       "      <td>1.0</td>\n",
       "      <td>0.941808</td>\n",
       "      <td>0.0</td>\n",
       "      <td>0.0</td>\n",
       "      <td>1.0</td>\n",
       "      <td>0.0</td>\n",
       "      <td>1.0</td>\n",
       "      <td>1.0</td>\n",
       "      <td>...</td>\n",
       "      <td>0.0</td>\n",
       "      <td>1.0</td>\n",
       "      <td>1.0</td>\n",
       "      <td>0.0</td>\n",
       "      <td>0.0</td>\n",
       "      <td>1.0</td>\n",
       "      <td>1.0</td>\n",
       "      <td>0.0</td>\n",
       "      <td>0.0</td>\n",
       "      <td>1.0</td>\n",
       "    </tr>\n",
       "    <tr>\n",
       "      <th>4</th>\n",
       "      <td>0.930842</td>\n",
       "      <td>0.708451</td>\n",
       "      <td>1.0</td>\n",
       "      <td>0.941808</td>\n",
       "      <td>0.0</td>\n",
       "      <td>0.0</td>\n",
       "      <td>1.0</td>\n",
       "      <td>0.0</td>\n",
       "      <td>1.0</td>\n",
       "      <td>1.0</td>\n",
       "      <td>...</td>\n",
       "      <td>0.0</td>\n",
       "      <td>1.0</td>\n",
       "      <td>1.0</td>\n",
       "      <td>0.0</td>\n",
       "      <td>0.0</td>\n",
       "      <td>1.0</td>\n",
       "      <td>1.0</td>\n",
       "      <td>0.0</td>\n",
       "      <td>0.0</td>\n",
       "      <td>1.0</td>\n",
       "    </tr>\n",
       "  </tbody>\n",
       "</table>\n",
       "<p>5 rows × 28 columns</p>\n",
       "</div>"
      ],
      "text/plain": [
       "     FIT101    LIT301  UV401    FIT502   MV101_0   MV101_1   MV101_2  P101_1  \\\n",
       "0  0.879322  0.707350    1.0  0.940678       0.0       0.0       1.0     0.0   \n",
       "1  0.886285  0.707350    1.0  0.953861       0.0       0.0       1.0     0.0   \n",
       "2  0.901833  0.707733    1.0  0.951224       0.0       0.0       1.0     0.0   \n",
       "3  0.918195  0.708116    1.0  0.941808       0.0       0.0       1.0     0.0   \n",
       "4  0.930842  0.708451    1.0  0.941808       0.0       0.0       1.0     0.0   \n",
       "\n",
       "   P101_2  P102_1  ...  P205_1  P205_2  P206_1  P206_2  P402_1  P402_2  \\\n",
       "0     1.0     1.0  ...     0.0     1.0     1.0     0.0     0.0     1.0   \n",
       "1     1.0     1.0  ...     0.0     1.0     1.0     0.0     0.0     1.0   \n",
       "2     1.0     1.0  ...     0.0     1.0     1.0     0.0     0.0     1.0   \n",
       "3     1.0     1.0  ...     0.0     1.0     1.0     0.0     0.0     1.0   \n",
       "4     1.0     1.0  ...     0.0     1.0     1.0     0.0     0.0     1.0   \n",
       "\n",
       "   P403_1  P403_2  P501_1  P501_2  \n",
       "0     1.0     0.0     0.0     1.0  \n",
       "1     1.0     0.0     0.0     1.0  \n",
       "2     1.0     0.0     0.0     1.0  \n",
       "3     1.0     0.0     0.0     1.0  \n",
       "4     1.0     0.0     0.0     1.0  \n",
       "\n",
       "[5 rows x 28 columns]"
      ]
     },
     "execution_count": 167,
     "metadata": {},
     "output_type": "execute_result"
    }
   ],
   "source": [
    "df_IF.head()"
   ]
  },
  {
   "cell_type": "code",
   "execution_count": 168,
   "id": "527f72ee",
   "metadata": {},
   "outputs": [
    {
     "name": "stdout",
     "output_type": "stream",
     "text": [
      "{'bootstrap': True, 'contamination': 0.01, 'max_features': 20, 'max_samples': 20, 'n_estimators': 15, 'n_jobs': 1, 'random_state': RandomState(MT19937) at 0x17A1EBCE540, 'verbose': 0, 'warm_start': False}\n"
     ]
    }
   ],
   "source": [
    "#Building the model\n",
    "\n",
    "random_state = np.random.RandomState(42)\n",
    "\n",
    "model=IsolationForest(n_estimators=15,max_samples=20,max_features=20,contamination=0.01,bootstrap=True,n_jobs=5,random_state=random_state)\n",
    "\n",
    "model.fit(df_IF)\n",
    "\n",
    "print(model.get_params())"
   ]
  },
  {
   "cell_type": "code",
   "execution_count": 169,
   "id": "08340e19",
   "metadata": {},
   "outputs": [],
   "source": [
    "md = model.decision_function(df_IF)\n",
    "mp = model.predict(df_IF)\n",
    "\n",
    "df_IF['scores'] = md\n",
    "df_IF['Normal/Attack'] = mp\n",
    "df_IF['Normal/Attack'] = df_IF['Normal/Attack'].replace({1: 'Normal', -1: 'Attack'})"
   ]
  },
  {
   "cell_type": "code",
   "execution_count": 170,
   "id": "9273f44a",
   "metadata": {},
   "outputs": [
    {
     "data": {
      "text/plain": [
       "Normal    446302\n",
       "Attack      3617\n",
       "Name: Normal/Attack, dtype: int64"
      ]
     },
     "execution_count": 170,
     "metadata": {},
     "output_type": "execute_result"
    }
   ],
   "source": [
    "#predected\n",
    "df_IF['Normal/Attack'].value_counts()"
   ]
  },
  {
   "cell_type": "code",
   "execution_count": 171,
   "id": "d86ca520",
   "metadata": {},
   "outputs": [
    {
     "data": {
      "text/plain": [
       "Normal     395298\n",
       "Attack      54584\n",
       "A ttack        37\n",
       "Name: Normal/Attack, dtype: int64"
      ]
     },
     "execution_count": 171,
     "metadata": {},
     "output_type": "execute_result"
    }
   ],
   "source": [
    "#original data with true labels\n",
    "processed_df['Normal/Attack'].value_counts()"
   ]
  },
  {
   "cell_type": "code",
   "execution_count": 172,
   "id": "6560dff1",
   "metadata": {},
   "outputs": [
    {
     "name": "stdout",
     "output_type": "stream",
     "text": [
      "Accuracy is: 0.8778735727986593\n"
     ]
    }
   ],
   "source": [
    "predicted_IF = df_IF['Normal/Attack'].replace({'Normal': 0, 'Attack': 1})\n",
    "actual_df = one_hot_encoded_data['Normal/Attack'].replace({'Normal': 0, 'Attack': 1})\n",
    "\n",
    "correct_pred = 0\n",
    "\n",
    "for i in range(len(predicted_IF)):\n",
    "    if -predicted_IF[i] == actual_df[i]:\n",
    "        correct_pred = correct_pred +1\n",
    "        \n",
    "score = correct_pred / len(actual_df)\n",
    "\n",
    "print(\"Accuracy is:\",score)"
   ]
  },
  {
   "cell_type": "markdown",
   "id": "b605c67d",
   "metadata": {},
   "source": [
    "# Long Short-Term Memory (LSTM) Autoencoder"
   ]
  },
  {
   "cell_type": "code",
   "execution_count": 327,
   "id": "f7ec3c5a",
   "metadata": {},
   "outputs": [],
   "source": [
    "DF_LSTM = one_hot_encoded_data\n",
    "Date_column = DF_LSTM['Date'] #make a copy of Date column to use later\n",
    "DF_LSTM.index = Date_column\n",
    "DF_LSTM = DF_LSTM.drop('Date', axis=1) #drop Date columns because we will use it as an index \n",
    "DF_LSTM = DF_LSTM.drop('Normal/Attack', axis=1) \n",
    "DF_LSTM = DF_LSTM.sort_index()"
   ]
  },
  {
   "cell_type": "code",
   "execution_count": 328,
   "id": "efe1156d",
   "metadata": {},
   "outputs": [
    {
     "name": "stdout",
     "output_type": "stream",
     "text": [
      "Training dataset shape: (395919, 28)\n",
      "Test dataset shape: (54000, 28)\n"
     ]
    }
   ],
   "source": [
    "train = DF_LSTM['2015-12-28 10:00:00': '2016-01-18 14:59:50']\n",
    "test = DF_LSTM['2016-01-18 14:59:51':]\n",
    "print(\"Training dataset shape:\", train.shape)\n",
    "print(\"Test dataset shape:\", test.shape)"
   ]
  },
  {
   "cell_type": "code",
   "execution_count": 329,
   "id": "c45aa08f",
   "metadata": {},
   "outputs": [
    {
     "data": {
      "text/plain": [
       "['scaler_data']"
      ]
     },
     "execution_count": 329,
     "metadata": {},
     "output_type": "execute_result"
    }
   ],
   "source": [
    "# normalize the data\n",
    "from sklearn.preprocessing import MinMaxScaler\n",
    "import joblib\n",
    "scaler = MinMaxScaler()\n",
    "X_train = scaler.fit_transform(train)\n",
    "X_test = scaler.transform(test)\n",
    "scaler_filename = \"scaler_data\"\n",
    "joblib.dump(scaler, scaler_filename)"
   ]
  },
  {
   "cell_type": "code",
   "execution_count": 330,
   "id": "b32db518",
   "metadata": {},
   "outputs": [
    {
     "name": "stdout",
     "output_type": "stream",
     "text": [
      "Training data shape: (395919, 1, 28)\n",
      "Test data shape: (54000, 1, 28)\n"
     ]
    }
   ],
   "source": [
    "# reshape inputs for LSTM [samples, timesteps, features]\n",
    "X_train = X_train.reshape(X_train.shape[0], 1, X_train.shape[1])\n",
    "print(\"Training data shape:\", X_train.shape)\n",
    "X_test = X_test.reshape(X_test.shape[0], 1, X_test.shape[1])\n",
    "print(\"Test data shape:\", X_test.shape)"
   ]
  },
  {
   "cell_type": "code",
   "execution_count": 331,
   "id": "f27a5fb4",
   "metadata": {},
   "outputs": [],
   "source": [
    "# define the autoencoder network model\n",
    "def autoencoder_model(X):\n",
    "    inputs = Input(shape=(X.shape[1], X.shape[2]))\n",
    "    L1 = LSTM(16, activation='relu', return_sequences=True, \n",
    "              kernel_regularizer=regularizers.l2(0.00))(inputs)\n",
    "    L2 = LSTM(4, activation='relu', return_sequences=False)(L1)\n",
    "    L3 = RepeatVector(X.shape[1])(L2)\n",
    "    L4 = LSTM(4, activation='relu', return_sequences=True)(L3)\n",
    "    L5 = LSTM(16, activation='relu', return_sequences=True)(L4)\n",
    "    output = TimeDistributed(Dense(X.shape[2]))(L5)    \n",
    "    model = Model(inputs=inputs, outputs=output)\n",
    "    return model"
   ]
  },
  {
   "cell_type": "code",
   "execution_count": 332,
   "id": "cffcdfdf",
   "metadata": {},
   "outputs": [
    {
     "name": "stdout",
     "output_type": "stream",
     "text": [
      "Model: \"model_6\"\n",
      "_________________________________________________________________\n",
      " Layer (type)                Output Shape              Param #   \n",
      "=================================================================\n",
      " input_8 (InputLayer)        [(None, 1, 28)]           0         \n",
      "                                                                 \n",
      " lstm_44 (LSTM)              (None, 1, 16)             2880      \n",
      "                                                                 \n",
      " lstm_45 (LSTM)              (None, 4)                 336       \n",
      "                                                                 \n",
      " repeat_vector_6 (RepeatVect  (None, 1, 4)             0         \n",
      " or)                                                             \n",
      "                                                                 \n",
      " lstm_46 (LSTM)              (None, 1, 4)              144       \n",
      "                                                                 \n",
      " lstm_47 (LSTM)              (None, 1, 16)             1344      \n",
      "                                                                 \n",
      " time_distributed_12 (TimeDi  (None, 1, 28)            476       \n",
      " stributed)                                                      \n",
      "                                                                 \n",
      "=================================================================\n",
      "Total params: 5,180\n",
      "Trainable params: 5,180\n",
      "Non-trainable params: 0\n",
      "_________________________________________________________________\n"
     ]
    }
   ],
   "source": [
    "from keras.layers import Input, Dropout, Dense, LSTM, TimeDistributed, RepeatVector\n",
    "from keras import regularizers\n",
    "from keras.models import Model\n",
    "\n",
    "# create the autoencoder model\n",
    "model = autoencoder_model(X_train)\n",
    "model.compile(optimizer='adam', loss='mae')\n",
    "model.summary()"
   ]
  },
  {
   "cell_type": "code",
   "execution_count": 333,
   "id": "ec9f0ac3",
   "metadata": {},
   "outputs": [
    {
     "name": "stdout",
     "output_type": "stream",
     "text": [
      "Epoch 1/30\n",
      "37613/37613 [==============================] - 153s 4ms/step - loss: 0.0680 - val_loss: 0.0580\n",
      "Epoch 2/30\n",
      "37613/37613 [==============================] - 158s 4ms/step - loss: 0.0574 - val_loss: 0.0560\n",
      "Epoch 3/30\n",
      "37613/37613 [==============================] - 165s 4ms/step - loss: 0.0572 - val_loss: 0.0570\n",
      "Epoch 4/30\n",
      "37613/37613 [==============================] - 167s 4ms/step - loss: 0.0572 - val_loss: 0.0559\n",
      "Epoch 5/30\n",
      "37613/37613 [==============================] - 170s 5ms/step - loss: 0.0571 - val_loss: 0.0564\n",
      "Epoch 6/30\n",
      "37613/37613 [==============================] - 168s 4ms/step - loss: 0.0571 - val_loss: 0.0557\n",
      "Epoch 7/30\n",
      "37613/37613 [==============================] - 169s 4ms/step - loss: 0.0570 - val_loss: 0.0559\n",
      "Epoch 8/30\n",
      "37613/37613 [==============================] - 166s 4ms/step - loss: 0.0570 - val_loss: 0.0561\n",
      "Epoch 9/30\n",
      "37613/37613 [==============================] - 171s 5ms/step - loss: 0.0570 - val_loss: 0.0556\n",
      "Epoch 10/30\n",
      "37613/37613 [==============================] - 168s 4ms/step - loss: 0.0570 - val_loss: 0.0558\n",
      "Epoch 11/30\n",
      "37613/37613 [==============================] - 172s 5ms/step - loss: 0.0569 - val_loss: 0.0555\n",
      "Epoch 12/30\n",
      "37613/37613 [==============================] - 172s 5ms/step - loss: 0.0569 - val_loss: 0.0554\n",
      "Epoch 13/30\n",
      "37613/37613 [==============================] - 174s 5ms/step - loss: 0.0397 - val_loss: 0.0292\n",
      "Epoch 14/30\n",
      "37613/37613 [==============================] - 177s 5ms/step - loss: 0.0392 - val_loss: 0.0292\n",
      "Epoch 15/30\n",
      "37613/37613 [==============================] - 175s 5ms/step - loss: 0.0389 - val_loss: 0.0290\n",
      "Epoch 16/30\n",
      "37613/37613 [==============================] - 168s 4ms/step - loss: 0.0388 - val_loss: 0.0290\n",
      "Epoch 17/30\n",
      "37613/37613 [==============================] - 169s 4ms/step - loss: 0.0388 - val_loss: 0.0293\n",
      "Epoch 18/30\n",
      "37613/37613 [==============================] - 167s 4ms/step - loss: 0.0388 - val_loss: 0.0289\n",
      "Epoch 19/30\n",
      "37613/37613 [==============================] - 169s 4ms/step - loss: 0.0388 - val_loss: 0.0286\n",
      "Epoch 20/30\n",
      "37613/37613 [==============================] - 173s 5ms/step - loss: 0.0388 - val_loss: 0.0290\n",
      "Epoch 21/30\n",
      "37613/37613 [==============================] - 174s 5ms/step - loss: 0.0387 - val_loss: 0.0289\n",
      "Epoch 22/30\n",
      "37613/37613 [==============================] - 170s 5ms/step - loss: 0.0387 - val_loss: 0.0289\n",
      "Epoch 23/30\n",
      "37613/37613 [==============================] - 169s 4ms/step - loss: 0.0387 - val_loss: 0.0288\n",
      "Epoch 24/30\n",
      "37613/37613 [==============================] - 168s 4ms/step - loss: 0.0387 - val_loss: 0.0288\n",
      "Epoch 25/30\n",
      "37613/37613 [==============================] - 169s 4ms/step - loss: 0.0387 - val_loss: 0.0290\n",
      "Epoch 26/30\n",
      "37613/37613 [==============================] - 169s 4ms/step - loss: 0.0387 - val_loss: 0.0289\n",
      "Epoch 27/30\n",
      "37613/37613 [==============================] - 167s 4ms/step - loss: 0.0387 - val_loss: 0.0288\n",
      "Epoch 28/30\n",
      "37613/37613 [==============================] - 166s 4ms/step - loss: 0.0387 - val_loss: 0.0286\n",
      "Epoch 29/30\n",
      "37613/37613 [==============================] - 165s 4ms/step - loss: 0.0387 - val_loss: 0.0289\n",
      "Epoch 30/30\n",
      "37613/37613 [==============================] - 165s 4ms/step - loss: 0.0387 - val_loss: 0.0287\n"
     ]
    }
   ],
   "source": [
    "# fit the model to the data\n",
    "nb_epochs = 30\n",
    "batch_size = 10\n",
    "history = model.fit(X_train, X_train, epochs=nb_epochs, batch_size=batch_size,\n",
    "                    validation_split=0.05).history"
   ]
  },
  {
   "cell_type": "code",
   "execution_count": 334,
   "id": "1dbffe16",
   "metadata": {},
   "outputs": [
    {
     "data": {
      "image/png": "[encoded data removed]",
      "text/plain": [
       "<Figure size 1120x480 with 1 Axes>"
      ]
     },
     "metadata": {
      "needs_background": "light"
     },
     "output_type": "display_data"
    }
   ],
   "source": [
    "# plot the training losses\n",
    "fig, ax = plt.subplots(figsize=(14, 6), dpi=80)\n",
    "ax.plot(history['loss'], 'b', label='Train', linewidth=2)\n",
    "ax.plot(history['val_loss'], 'r', label='Validation', linewidth=2)\n",
    "ax.set_title('Model loss', fontsize=16)\n",
    "ax.set_ylabel('Loss (mae)')\n",
    "ax.set_xlabel('Epoch')\n",
    "ax.legend(loc='upper right')\n",
    "plt.show()"
   ]
  },
  {
   "cell_type": "code",
   "execution_count": 335,
   "id": "5dacd358",
   "metadata": {},
   "outputs": [
    {
     "name": "stdout",
     "output_type": "stream",
     "text": [
      "12373/12373 [==============================] - 26s 2ms/step\n"
     ]
    },
    {
     "data": {
      "text/plain": [
       "(0.0, 0.5)"
      ]
     },
     "execution_count": 335,
     "metadata": {},
     "output_type": "execute_result"
    },
    {
     "data": {
      "image/png": "[encoded data removed]",
      "text/plain": [
       "<Figure size 1280x720 with 1 Axes>"
      ]
     },
     "metadata": {
      "needs_background": "light"
     },
     "output_type": "display_data"
    }
   ],
   "source": [
    "# plot the loss distribution of the training set\n",
    "X_pred = model.predict(X_train)\n",
    "X_pred = X_pred.reshape(X_pred.shape[0], X_pred.shape[2])\n",
    "X_pred = pd.DataFrame(X_pred, columns=train.columns)\n",
    "X_pred.index = train.index\n",
    "\n",
    "scored = pd.DataFrame(index=train.index)\n",
    "Xtrain = X_train.reshape(X_train.shape[0], X_train.shape[2])\n",
    "scored['Loss_mae'] = np.mean(np.abs(X_pred-Xtrain), axis = 1)\n",
    "plt.figure(figsize=(16,9), dpi=80)\n",
    "plt.title('Loss Distribution', fontsize=16)\n",
    "sns.distplot(scored['Loss_mae'], bins = 20, kde= True, color = 'blue');\n",
    "plt.xlim([0.0,.5])"
   ]
  },
  {
   "cell_type": "code",
   "execution_count": 398,
   "id": "334269dd",
   "metadata": {},
   "outputs": [
    {
     "name": "stdout",
     "output_type": "stream",
     "text": [
      "1688/1688 [==============================] - 3s 2ms/step\n"
     ]
    },
    {
     "data": {
      "text/html": [
       "<div>\n",
       "<style scoped>\n",
       "    .dataframe tbody tr th:only-of-type {\n",
       "        vertical-align: middle;\n",
       "    }\n",
       "\n",
       "    .dataframe tbody tr th {\n",
       "        vertical-align: top;\n",
       "    }\n",
       "\n",
       "    .dataframe thead th {\n",
       "        text-align: right;\n",
       "    }\n",
       "</style>\n",
       "<table border=\"1\" class=\"dataframe\">\n",
       "  <thead>\n",
       "    <tr style=\"text-align: right;\">\n",
       "      <th></th>\n",
       "      <th>Loss_mae</th>\n",
       "      <th>Threshold</th>\n",
       "      <th>Normal/Attack</th>\n",
       "    </tr>\n",
       "    <tr>\n",
       "      <th>Date</th>\n",
       "      <th></th>\n",
       "      <th></th>\n",
       "      <th></th>\n",
       "    </tr>\n",
       "  </thead>\n",
       "  <tbody>\n",
       "    <tr>\n",
       "      <th>2016-02-01 00:00:00</th>\n",
       "      <td>0.003536</td>\n",
       "      <td>0.17</td>\n",
       "      <td>Normal</td>\n",
       "    </tr>\n",
       "    <tr>\n",
       "      <th>2016-02-01 00:00:01</th>\n",
       "      <td>0.002963</td>\n",
       "      <td>0.17</td>\n",
       "      <td>Normal</td>\n",
       "    </tr>\n",
       "    <tr>\n",
       "      <th>2016-02-01 00:00:02</th>\n",
       "      <td>0.003175</td>\n",
       "      <td>0.17</td>\n",
       "      <td>Normal</td>\n",
       "    </tr>\n",
       "    <tr>\n",
       "      <th>2016-02-01 00:00:03</th>\n",
       "      <td>0.003602</td>\n",
       "      <td>0.17</td>\n",
       "      <td>Normal</td>\n",
       "    </tr>\n",
       "    <tr>\n",
       "      <th>2016-02-01 00:00:04</th>\n",
       "      <td>0.003694</td>\n",
       "      <td>0.17</td>\n",
       "      <td>Normal</td>\n",
       "    </tr>\n",
       "  </tbody>\n",
       "</table>\n",
       "</div>"
      ],
      "text/plain": [
       "                     Loss_mae  Threshold Normal/Attack\n",
       "Date                                                  \n",
       "2016-02-01 00:00:00  0.003536       0.17        Normal\n",
       "2016-02-01 00:00:01  0.002963       0.17        Normal\n",
       "2016-02-01 00:00:02  0.003175       0.17        Normal\n",
       "2016-02-01 00:00:03  0.003602       0.17        Normal\n",
       "2016-02-01 00:00:04  0.003694       0.17        Normal"
      ]
     },
     "execution_count": 398,
     "metadata": {},
     "output_type": "execute_result"
    }
   ],
   "source": [
    "# calculate the loss on the test set\n",
    "X_pred = model.predict(X_test)\n",
    "X_pred = X_pred.reshape(X_pred.shape[0], X_pred.shape[2])\n",
    "X_pred = pd.DataFrame(X_pred, columns=test.columns)\n",
    "X_pred.index = test.index\n",
    "\n",
    "scored_test = pd.DataFrame(index=test.index)\n",
    "Xtest = X_test.reshape(X_test.shape[0], X_test.shape[2])\n",
    "scored_test['Loss_mae'] = np.mean(np.abs(X_pred-Xtest), axis = 1)\n",
    "scored_test['Threshold'] = 0.17\n",
    "scored_test['Normal/Attack'] = scored_test['Loss_mae'] > scored_test['Threshold']\n",
    "scored_test['Normal/Attack'] = scored_test['Normal/Attack'].replace({False: 'Normal', True: 'Attack'})\n",
    "scored_test.head()"
   ]
  },
  {
   "cell_type": "code",
   "execution_count": 399,
   "id": "9e2bf36f",
   "metadata": {},
   "outputs": [
    {
     "data": {
      "text/plain": [
       "Normal    53867\n",
       "Attack      133\n",
       "Name: Normal/Attack, dtype: int64"
      ]
     },
     "execution_count": 399,
     "metadata": {},
     "output_type": "execute_result"
    }
   ],
   "source": [
    "scored_test['Normal/Attack'].value_counts()"
   ]
  },
  {
   "cell_type": "code",
   "execution_count": 400,
   "id": "d41190b4",
   "metadata": {},
   "outputs": [
    {
     "name": "stdout",
     "output_type": "stream",
     "text": [
      "12373/12373 [==============================] - 23s 2ms/step\n"
     ]
    }
   ],
   "source": [
    "# calculate the same metrics for the training set \n",
    "X_pred_train = model.predict(X_train)\n",
    "X_pred_train = X_pred_train.reshape(X_pred_train.shape[0], X_pred_train.shape[2])\n",
    "X_pred_train = pd.DataFrame(X_pred_train, columns=train.columns)\n",
    "X_pred_train.index = train.index\n",
    "\n",
    "scored_train = pd.DataFrame(index=train.index)\n",
    "Xtrain = X_train.reshape(X_train.shape[0], X_train.shape[2])\n",
    "scored_train['Loss_mae'] = np.mean(np.abs(X_pred_train-Xtrain), axis = 1)\n",
    "scored_train['Threshold'] = 0.17\n",
    "scored_train['Normal/Attack'] = scored_train['Loss_mae'] > scored_train['Threshold']\n",
    "scored_train['Normal/Attack'] = scored_train['Normal/Attack'].replace({False: 'Normal', True: 'Attack'})"
   ]
  },
  {
   "cell_type": "code",
   "execution_count": 401,
   "id": "0f65b23b",
   "metadata": {},
   "outputs": [
    {
     "data": {
      "text/plain": [
       "Normal    362201\n",
       "Attack     33718\n",
       "Name: Normal/Attack, dtype: int64"
      ]
     },
     "execution_count": 401,
     "metadata": {},
     "output_type": "execute_result"
    }
   ],
   "source": [
    "scored_train['Normal/Attack'].value_counts()"
   ]
  },
  {
   "cell_type": "code",
   "execution_count": 402,
   "id": "4aeae746",
   "metadata": {},
   "outputs": [
    {
     "data": {
      "text/plain": [
       "Normal    416068\n",
       "Attack     33851\n",
       "Name: Normal/Attack, dtype: int64"
      ]
     },
     "execution_count": 402,
     "metadata": {},
     "output_type": "execute_result"
    }
   ],
   "source": [
    "# merge all data in a single dataframe for plotting\n",
    "scored = pd.concat([scored_train, scored_test])\n",
    "scored['Normal/Attack'].value_counts()"
   ]
  },
  {
   "cell_type": "code",
   "execution_count": 403,
   "id": "ad47ff83",
   "metadata": {},
   "outputs": [
    {
     "data": {
      "text/plain": [
       "Normal     395298\n",
       "Attack      54584\n",
       "A ttack        37\n",
       "Name: Normal/Attack, dtype: int64"
      ]
     },
     "execution_count": 403,
     "metadata": {},
     "output_type": "execute_result"
    }
   ],
   "source": [
    "#true labels from original df\n",
    "one_hot_encoded_data['Normal/Attack'].value_counts()"
   ]
  },
  {
   "cell_type": "code",
   "execution_count": 407,
   "id": "5a125293",
   "metadata": {},
   "outputs": [
    {
     "data": {
      "text/plain": [
       "<AxesSubplot:xlabel='Date'>"
      ]
     },
     "execution_count": 407,
     "metadata": {},
     "output_type": "execute_result"
    },
    {
     "data": {
      "image/png": "[encoded data removed]",
      "text/plain": [
       "<Figure size 1296x648 with 1 Axes>"
      ]
     },
     "metadata": {
      "needs_background": "light"
     },
     "output_type": "display_data"
    }
   ],
   "source": [
    "# plot results\n",
    "#scored_test.plot(logy=True,  figsize=(18,9), color=['blue','red'])\n",
    "scored_train.plot(logy=True,  figsize=(18,9), color=['blue','red'])"
   ]
  },
  {
   "cell_type": "code",
   "execution_count": 405,
   "id": "5fccf739",
   "metadata": {},
   "outputs": [
    {
     "name": "stdout",
     "output_type": "stream",
     "text": [
      "Root Mean Square Error:\n",
      "\n",
      "0.22643200101447064\n"
     ]
    }
   ],
   "source": [
    "predicted = scored['Normal/Attack'].replace({'Normal': 0, 'Attack': 1}).values\n",
    "actual = one_hot_encoded_data['Normal/Attack'].replace({'Normal': 0, 'Attack': 1, 'A ttack':1}).values\n",
    "\n",
    "MSE = np.square(np.subtract(actual,predicted)).mean() \n",
    " \n",
    "RMSE = math.sqrt(MSE)\n",
    "print(\"Root Mean Square Error:\\n\")\n",
    "print(RMSE)"
   ]
  },
  {
   "cell_type": "code",
   "execution_count": 406,
   "id": "71986089",
   "metadata": {},
   "outputs": [
    {
     "name": "stdout",
     "output_type": "stream",
     "text": [
      "Accuracy is: 0.8760443546505038\n"
     ]
    }
   ],
   "source": [
    "correct_pred = 0\n",
    "\n",
    "for i in range(len(predicted)):\n",
    "    if -predicted[i] == actual[i]:\n",
    "        correct_pred = correct_pred +1\n",
    "        \n",
    "score = correct_pred / len(actual)\n",
    "\n",
    "print(\"Accuracy is:\",score)"
   ]
  },
  {
   "cell_type": "markdown",
   "id": "7cfc62b4",
   "metadata": {},
   "source": [
    "# Results"
   ]
  },
  {
   "cell_type": "raw",
   "id": "e75b2a0d",
   "metadata": {},
   "source": [
    "VAR model managed to achieve an accuracy of 0.755 \n",
    "LSTM model managed to achieve an accuracy of 0.876\n",
    "Isolation Forest managed to achieve an accuracy of 0.877\n"
   ]
  }
 ],
 "metadata": {
  "kernelspec": {
   "display_name": "Python 3 (ipykernel)",
   "language": "python",
   "name": "python3"
  },
  "language_info": {
   "codemirror_mode": {
    "name": "ipython",
    "version": 3
   },
   "file_extension": ".py",
   "mimetype": "text/x-python",
   "name": "python",
   "nbconvert_exporter": "python",
   "pygments_lexer": "ipython3",
   "version": "3.9.12"
  }
 },
 "nbformat": 4,
 "nbformat_minor": 5
}
